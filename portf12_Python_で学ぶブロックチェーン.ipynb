{
  "nbformat": 4,
  "nbformat_minor": 0,
  "metadata": {
    "colab": {
      "provenance": []
    },
    "kernelspec": {
      "name": "python3",
      "display_name": "Python 3"
    },
    "language_info": {
      "name": "python"
    }
  },
  "cells": [
    {
      "cell_type": "markdown",
      "source": [
        "Python で学ぶブロックチェーン\n"
      ],
      "metadata": {
        "id": "BsojZrCEZbqJ"
      }
    },
    {
      "cell_type": "markdown",
      "source": [
        "2.3. Python 実装\n",
        "\n",
        "Python でブロックのヘッダー定義および変数初期化を以下のように行います。"
      ],
      "metadata": {
        "id": "NXECHiwnY3IM"
      }
    },
    {
      "cell_type": "code",
      "execution_count": null,
      "metadata": {
        "id": "W5wQT_o5YwVx"
      },
      "outputs": [],
      "source": [
        "class Block:\n",
        "    def __init__(self, index, timestamp, nonce, previous_block_hash, merkle_root, transactions):\n",
        "        self.index = index  # インデックス\n",
        "        self.timestamp = timestamp  # タイムスタンプ\n",
        "        self.nonce = nonce  # ナンス\n",
        "        self.previous_block_hash = previous_block_hash  # 前のブロックハッシュ値\n",
        "        self.merkle_root = merkle_root  # マークルルート"
      ]
    },
    {
      "cell_type": "markdown",
      "source": [
        "トランザクションプールの登録については、以下の通り実装します。キュークラスで transaction_pool を定義し、add_transaction 関数でトランザクションを transaction_pool に PUT しています。"
      ],
      "metadata": {
        "id": "5Tw3Rq1aZJ_C"
      }
    },
    {
      "cell_type": "code",
      "source": [
        "from queue import Queue\n",
        "\n",
        "class Blockchain:\n",
        "    def __init__(self):\n",
        "        self.transaction_pool = Queue()  # トランザクションプール\n",
        "\n",
        "    # トランザクションを追加する関数\n",
        "    def add_transaction(self, transaction):\n",
        "        self.transaction_pool.put(transaction)"
      ],
      "metadata": {
        "id": "mbS1yR8uY0Sf"
      },
      "execution_count": null,
      "outputs": []
    },
    {
      "cell_type": "markdown",
      "source": [
        "マイニング関数では、transaction_pool からトランザクションを取り出し、リストとしてセットしています。その後、ブロックチェーンとしてブロックを追加する際に、transaction_pool を初期化します。"
      ],
      "metadata": {
        "id": "7TDD_EG_ZN8H"
      }
    },
    {
      "cell_type": "code",
      "source": [
        "# マイニングする関数\n",
        "def mine_block(self):\n",
        "    ## ...\n",
        "    new_block_transactions = list(self.transaction_pool.queue)\n",
        "    ## ...\n",
        "    while True:\n",
        "        ## ...\n",
        "        # ハッシュ値が要求された難易度より小さい場合、ブロックを追加して終了\n",
        "        if new_block_hash[:self.difficulty] == '0' * self.difficulty:\n",
        "            self.transaction_pool = Queue()\n",
        "            ## ..."
      ],
      "metadata": {
        "id": "joAvUfAjZF1a"
      },
      "execution_count": null,
      "outputs": []
    },
    {
      "cell_type": "markdown",
      "source": [
        "4. ハッシュとマークルルート"
      ],
      "metadata": {
        "id": "YjUejG57Zut_"
      }
    },
    {
      "cell_type": "markdown",
      "source": [
        "4.5. Python 実装"
      ],
      "metadata": {
        "id": "m9_7uAtaZ09V"
      }
    },
    {
      "cell_type": "markdown",
      "source": [
        "4.5.1. ハッシュ"
      ],
      "metadata": {
        "id": "HXarINRkZ5N1"
      }
    },
    {
      "cell_type": "code",
      "source": [
        "# SHA256でハッシュ計算する関数\n",
        "def calculate_hash(self):\n",
        "    block_string = json.dumps({\n",
        "        'index': self.index,  # インデックス\n",
        "        'timestamp': self.timestamp,  # タイムスタンプ\n",
        "        'nonce': self.nonce,  # ナンス\n",
        "        'previous_block_hash': self.previous_block_hash,  # 前のブロックハッシュ値\n",
        "        'merkle_root': self.merkle_root,  # マークルルート\n",
        "    }, sort_keys=True).encode()\n",
        "\n",
        "    return hashlib.sha256(block_string).hexdigest()"
      ],
      "metadata": {
        "id": "kfPEr4lNZ7Jc"
      },
      "execution_count": null,
      "outputs": []
    },
    {
      "cell_type": "markdown",
      "source": [
        "前のブロックハッシュ値は、マイニングする際に、前のチェーンの block_hash から取得します。"
      ],
      "metadata": {
        "id": "RiSNR_6HaSC5"
      }
    },
    {
      "cell_type": "code",
      "source": [
        "# マイニングする関数\n",
        "def mine_block(self):\n",
        "    # 直前のブロックを取得\n",
        "    previous_block = self.chain[-1]\n",
        "    # ...\n",
        "    new_block_previous_hash = previous_block['block_hash']"
      ],
      "metadata": {
        "id": "s_W1PzOhaTlT"
      },
      "execution_count": null,
      "outputs": []
    },
    {
      "cell_type": "markdown",
      "source": [
        "4.5.2. マークルルート\n",
        "\n",
        "マークルルートは以下のアルゴリズムで処理します。\n",
        "\n",
        "トランザクション数が0の場合は、空文字列のハッシュ値を返す\n",
        "トランザクション数が1の場合は、そのトランザクションのハッシュ値を返す\n",
        "要素数が奇数の場合は、最後の要素を複製して偶数にする\n",
        "2つの要素を組み合わせてハッシュ値を計算し、リストに格納\n",
        "3.〜4.を再起的に繰り返す。"
      ],
      "metadata": {
        "id": "8jWDkH3Jacny"
      }
    },
    {
      "cell_type": "code",
      "source": [
        "# マークルルートを計算する関数\n",
        "def calculate_merkle_root(self, transactions):\n",
        "    # 要素数が0の場合は、空文字列のハッシュ値を返す\n",
        "    if len(transactions) == 0:\n",
        "        return hashlib.sha256(b'').hexdigest()\n",
        "\n",
        "    # 要素数が1の場合は、そのトランザクションのハッシュ値を返す\n",
        "    if len(transactions) == 1:\n",
        "        return hashlib.sha256(transactions[0].encode()).hexdigest()\n",
        "\n",
        "    # 要素数が奇数の場合は、最後の要素を複製して偶数にする\n",
        "    if len(transactions) % 2 == 1:\n",
        "        transactions.append(transactions[-1])\n",
        "\n",
        "    # ハッシュ値を格納するリストを初期化\n",
        "    hashes = []\n",
        "\n",
        "    # 2つのトランザクションを組み合わせてハッシュ値を計算し、リストに格納する\n",
        "    for i in range(0, len(transactions), 2):\n",
        "        transaction_pair = transactions[i] + transactions[i+1]\n",
        "        hash_value = hashlib.sha256(transaction_pair.encode()).hexdigest()\n",
        "        hashes.append(hash_value)\n",
        "\n",
        "    # 再帰的にマークルルートを計算する\n",
        "    return self.calculate_merkle_root(hashes)"
      ],
      "metadata": {
        "id": "-wdVCiACal99"
      },
      "execution_count": null,
      "outputs": []
    },
    {
      "cell_type": "markdown",
      "source": [
        "5. ナンスと難易度"
      ],
      "metadata": {
        "id": "KhB7RIB4asx2"
      }
    },
    {
      "cell_type": "code",
      "source": [
        "class Blockchain:\n",
        "    def __init__(self):\n",
        "        # ...\n",
        "        self.difficulty = 2  # 難易度\n",
        "    # ...\n",
        "    # マイニングする関数\n",
        "    def mine_block(self):\n",
        "        # ...\n",
        "        new_block_nonce = 0\n",
        "        # ...\n",
        "        while True:\n",
        "            # 新しいブロックを作成\n",
        "            new_block = Block(\n",
        "                index = new_block_index,\n",
        "                timestamp = new_block_timestamp,\n",
        "                nonce = new_block_nonce,\n",
        "                previous_block_hash = new_block_previous_hash,\n",
        "                merkle_root = new_block_merkle_root,\n",
        "                transactions = new_block_transactions\n",
        "            )\n",
        "            # ...\n",
        "            new_block_hash = new_block.calculate_hash()\n",
        "\n",
        "            # ハッシュ値が要求された難易度より小さい場合、ブロックを追加して終了\n",
        "            if new_block_hash[:self.difficulty] == '0' * self.difficulty:\n",
        "                break;\n",
        "\n",
        "            # nonceを増やして再度試行\n",
        "            new_block_nonce += 1"
      ],
      "metadata": {
        "id": "aF2ryu2Ra1Hu"
      },
      "execution_count": null,
      "outputs": []
    },
    {
      "cell_type": "markdown",
      "source": [
        "6. 電子署名、公開鍵、秘密鍵"
      ],
      "metadata": {
        "id": "sQUSNJYObYGJ"
      }
    },
    {
      "cell_type": "markdown",
      "source": [
        "9.1. ソースコード全文"
      ],
      "metadata": {
        "id": "TehwBOGJePKP"
      }
    },
    {
      "cell_type": "code",
      "source": [
        "import hashlib\n",
        "import json\n",
        "import time\n",
        "from queue import Queue\n",
        "\n",
        "# ブロックのクラス\n",
        "class Block:\n",
        "    def __init__(self, index, timestamp, nonce, previous_block_hash, merkle_root, transactions):\n",
        "        self.index = index  # インデックス\n",
        "        self.timestamp = timestamp  # タイムスタンプ\n",
        "        self.nonce = nonce  # ナンス\n",
        "        self.previous_block_hash = previous_block_hash  # 前のブロックハッシュ値\n",
        "        self.merkle_root = merkle_root  # マークルルート\n",
        "        self.transactions = transactions  # トランザクション\n",
        "        self.block_hash = self.calculate_hash()  # ブロックハッシュ値\n",
        "\n",
        "    # SHA256でハッシュ計算する関数\n",
        "    def calculate_hash(self):\n",
        "        block_string = json.dumps({\n",
        "            'index': self.index,  # インデックス\n",
        "            'timestamp': self.timestamp,  # タイムスタンプ\n",
        "            'nonce': self.nonce,  # ナンス\n",
        "            'previous_block_hash': self.previous_block_hash,  # 前のブロックハッシュ値\n",
        "            'merkle_root': self.merkle_root,  # マークルルート\n",
        "        }, sort_keys=True).encode()\n",
        "\n",
        "        return hashlib.sha256(block_string).hexdigest()\n",
        "\n",
        "    # マークルルートを計算する関数\n",
        "    def calculate_merkle_root(self, transactions):\n",
        "        # 要素数が0の場合は、空文字列のハッシュ値を返す\n",
        "        if len(transactions) == 0:\n",
        "            return hashlib.sha256(b'').hexdigest()\n",
        "\n",
        "        # 要素数が1の場合は、そのトランザクションのハッシュ値を返す\n",
        "        if len(transactions) == 1:\n",
        "            return hashlib.sha256(transactions[0].encode()).hexdigest()\n",
        "\n",
        "        # 要素数が奇数の場合は、最後の要素を複製して偶数にする\n",
        "        if len(transactions) % 2 == 1:\n",
        "            transactions.append(transactions[-1])\n",
        "\n",
        "        # ハッシュ値を格納するリストを初期化\n",
        "        hashes = []\n",
        "\n",
        "        # 2つのトランザクションを組み合わせてハッシュ値を計算し、リストに格納する\n",
        "        for i in range(0, len(transactions), 2):\n",
        "            transaction_pair = transactions[i] + transactions[i+1]\n",
        "            hash_value = hashlib.sha256(transaction_pair.encode()).hexdigest()\n",
        "            hashes.append(hash_value)\n",
        "\n",
        "        # 再帰的にマークルルートを計算する\n",
        "        return self.calculate_merkle_root(hashes)\n",
        "\n",
        "# ブロックチェーンのクラス\n",
        "class Blockchain:\n",
        "    def __init__(self):\n",
        "        self.chain = [self.create_genesis_block()]  # チェーン\n",
        "        self.transaction_pool = Queue()  # トランザクションプール\n",
        "        self.difficulty = 2  # 難易度\n",
        "\n",
        "    # ジェネシスブロックを生成する関数\n",
        "    def create_genesis_block(self):\n",
        "        genesis_block = Block(\n",
        "            index=0,\n",
        "            timestamp=time.time(),\n",
        "            nonce=0,\n",
        "            previous_block_hash='',\n",
        "            merkle_root='',\n",
        "            transactions=[],\n",
        "        )\n",
        "        return genesis_block.__dict__\n",
        "\n",
        "    # トランザクションを追加する関数\n",
        "    def add_transaction(self, transaction):\n",
        "        self.transaction_pool.put(transaction)\n",
        "\n",
        "    # マイニングする関数\n",
        "    def mine_block(self):\n",
        "        # 直前のブロックを取得\n",
        "        previous_block = self.chain[-1]\n",
        "\n",
        "        # 新しいブロックのデータを設定\n",
        "        new_block_index = previous_block['index'] + 1\n",
        "        new_block_timestamp = time.time()\n",
        "        new_block_nonce = 0\n",
        "        new_block_previous_hash = previous_block['block_hash']\n",
        "        new_block_merkle_root = ''\n",
        "        new_block_transactions = list(self.transaction_pool.queue)\n",
        "\n",
        "        while True:\n",
        "            # 新しいブロックを作成\n",
        "            new_block = Block(\n",
        "                index = new_block_index,\n",
        "                timestamp = new_block_timestamp,\n",
        "                nonce = new_block_nonce,\n",
        "                previous_block_hash = new_block_previous_hash,\n",
        "                merkle_root = new_block_merkle_root,\n",
        "                transactions = new_block_transactions\n",
        "            )\n",
        "            new_block.merkle_root = new_block.calculate_merkle_root(new_block_transactions),\n",
        "            new_block_hash = new_block.calculate_hash()\n",
        "\n",
        "            # ハッシュ値が要求された難易度より小さい場合、ブロックを追加して終了\n",
        "            if new_block_hash[:self.difficulty] == '0' * self.difficulty:\n",
        "                self.chain.append(new_block.__dict__)\n",
        "                self.transaction_pool = Queue()\n",
        "\n",
        "                return new_block.__dict__\n",
        "\n",
        "            # nonceを増やして再度試行\n",
        "            new_block_nonce += 1"
      ],
      "metadata": {
        "id": "3E7vddUCeCin"
      },
      "execution_count": null,
      "outputs": []
    },
    {
      "cell_type": "code",
      "source": [
        "# 1.トランザクションAliceを追加　ジェネシスのみの確認\n",
        "blockchain=Blockchain()\n",
        "blockchain.add_transaction(\"Alice\")\n",
        "print(blockchain.chain)"
      ],
      "metadata": {
        "colab": {
          "base_uri": "https://localhost:8080/"
        },
        "id": "ALY2lDrePp5I",
        "outputId": "c79f10bf-d218-4238-b176-29ec973f1d01"
      },
      "execution_count": null,
      "outputs": [
        {
          "output_type": "stream",
          "name": "stdout",
          "text": [
            "[{'index': 0, 'timestamp': 1690594577.2373264, 'nonce': 0, 'previous_block_hash': '', 'merkle_root': '', 'transactions': [], 'block_hash': 'c6fdf3d57ff0e1f8363c9c720b140a4169931a03860857b317a27a4644c40dae'}]\n"
          ]
        }
      ]
    },
    {
      "cell_type": "code",
      "source": [
        "# 2.Aliceを含むトランザクションをブロック1に処理\n",
        "blockchain.mine_block()"
      ],
      "metadata": {
        "colab": {
          "base_uri": "https://localhost:8080/"
        },
        "id": "yszIdxzFQVlZ",
        "outputId": "8bc30bee-b0ee-44dd-d5ad-b85b7ddd6273"
      },
      "execution_count": null,
      "outputs": [
        {
          "output_type": "execute_result",
          "data": {
            "text/plain": [
              "{'index': 1,\n",
              " 'timestamp': 1690594583.4873512,\n",
              " 'nonce': 22,\n",
              " 'previous_block_hash': 'c6fdf3d57ff0e1f8363c9c720b140a4169931a03860857b317a27a4644c40dae',\n",
              " 'merkle_root': ('3bc51062973c458d5a6f2d8d64a023246354ad7e064b1e4e009ec8a0699a3043',),\n",
              " 'transactions': ['Alice'],\n",
              " 'block_hash': '9d8633a3678a182ed607d4c02caec6b5e7ec29a3196e2a722c8b06e7b775c741'}"
            ]
          },
          "metadata": {},
          "execution_count": 3
        }
      ]
    },
    {
      "cell_type": "code",
      "source": [
        "# 3.ブロック１の確認\n",
        "print(blockchain.chain)"
      ],
      "metadata": {
        "colab": {
          "base_uri": "https://localhost:8080/"
        },
        "id": "F2u_EpClQ4CR",
        "outputId": "378cdecc-f314-461b-dd9a-3094fa0f4659"
      },
      "execution_count": null,
      "outputs": [
        {
          "output_type": "stream",
          "name": "stdout",
          "text": [
            "[{'index': 0, 'timestamp': 1690594577.2373264, 'nonce': 0, 'previous_block_hash': '', 'merkle_root': '', 'transactions': [], 'block_hash': 'c6fdf3d57ff0e1f8363c9c720b140a4169931a03860857b317a27a4644c40dae'}, {'index': 1, 'timestamp': 1690594583.4873512, 'nonce': 22, 'previous_block_hash': 'c6fdf3d57ff0e1f8363c9c720b140a4169931a03860857b317a27a4644c40dae', 'merkle_root': ('3bc51062973c458d5a6f2d8d64a023246354ad7e064b1e4e009ec8a0699a3043',), 'transactions': ['Alice'], 'block_hash': '9d8633a3678a182ed607d4c02caec6b5e7ec29a3196e2a722c8b06e7b775c741'}]\n"
          ]
        }
      ]
    },
    {
      "cell_type": "code",
      "source": [
        "# 4.トランザクションBobとGraceを追加して、確認\n",
        "blockchain.add_transaction(\"Bob\")\n",
        "blockchain.add_transaction(\"Grace\")\n",
        "print(blockchain.chain)"
      ],
      "metadata": {
        "colab": {
          "base_uri": "https://localhost:8080/"
        },
        "id": "VxvZM-JiRLYy",
        "outputId": "87d7f40f-c6a0-4935-b9b4-e038ff6946bf"
      },
      "execution_count": null,
      "outputs": [
        {
          "output_type": "stream",
          "name": "stdout",
          "text": [
            "[{'index': 0, 'timestamp': 1690594577.2373264, 'nonce': 0, 'previous_block_hash': '', 'merkle_root': '', 'transactions': [], 'block_hash': 'c6fdf3d57ff0e1f8363c9c720b140a4169931a03860857b317a27a4644c40dae'}, {'index': 1, 'timestamp': 1690594583.4873512, 'nonce': 22, 'previous_block_hash': 'c6fdf3d57ff0e1f8363c9c720b140a4169931a03860857b317a27a4644c40dae', 'merkle_root': ('3bc51062973c458d5a6f2d8d64a023246354ad7e064b1e4e009ec8a0699a3043',), 'transactions': ['Alice'], 'block_hash': '9d8633a3678a182ed607d4c02caec6b5e7ec29a3196e2a722c8b06e7b775c741'}]\n"
          ]
        }
      ]
    },
    {
      "cell_type": "code",
      "source": [
        "# 5.マイニングする　ブロック２の処理\n",
        "blockchain.mine_block()"
      ],
      "metadata": {
        "colab": {
          "base_uri": "https://localhost:8080/"
        },
        "id": "IZbnAFRSRsrW",
        "outputId": "18f0ca3a-7da3-4f86-b0a5-74cdd75b06dc"
      },
      "execution_count": null,
      "outputs": [
        {
          "output_type": "execute_result",
          "data": {
            "text/plain": [
              "{'index': 2,\n",
              " 'timestamp': 1690594594.504145,\n",
              " 'nonce': 56,\n",
              " 'previous_block_hash': '9d8633a3678a182ed607d4c02caec6b5e7ec29a3196e2a722c8b06e7b775c741',\n",
              " 'merkle_root': ('8eb45a82f786577388e204d82ffbedc61fcbfaa7fc31a8fae6e0c163e35d5dd5',),\n",
              " 'transactions': ['Bob', 'Grace'],\n",
              " 'block_hash': '9b0a86fa34c0dad4042188e8908ba2154e6497ab576923e907b2498aab02807c'}"
            ]
          },
          "metadata": {},
          "execution_count": 6
        }
      ]
    },
    {
      "cell_type": "code",
      "source": [
        "# 6.ブロック２の確認\n",
        "print(blockchain.chain)"
      ],
      "metadata": {
        "colab": {
          "base_uri": "https://localhost:8080/"
        },
        "id": "iOsrq7sXR_bd",
        "outputId": "31519aa4-d62a-468e-c7a8-9f62e14c206a"
      },
      "execution_count": null,
      "outputs": [
        {
          "output_type": "stream",
          "name": "stdout",
          "text": [
            "[{'index': 0, 'timestamp': 1690594577.2373264, 'nonce': 0, 'previous_block_hash': '', 'merkle_root': '', 'transactions': [], 'block_hash': 'c6fdf3d57ff0e1f8363c9c720b140a4169931a03860857b317a27a4644c40dae'}, {'index': 1, 'timestamp': 1690594583.4873512, 'nonce': 22, 'previous_block_hash': 'c6fdf3d57ff0e1f8363c9c720b140a4169931a03860857b317a27a4644c40dae', 'merkle_root': ('3bc51062973c458d5a6f2d8d64a023246354ad7e064b1e4e009ec8a0699a3043',), 'transactions': ['Alice'], 'block_hash': '9d8633a3678a182ed607d4c02caec6b5e7ec29a3196e2a722c8b06e7b775c741'}, {'index': 2, 'timestamp': 1690594594.504145, 'nonce': 56, 'previous_block_hash': '9d8633a3678a182ed607d4c02caec6b5e7ec29a3196e2a722c8b06e7b775c741', 'merkle_root': ('8eb45a82f786577388e204d82ffbedc61fcbfaa7fc31a8fae6e0c163e35d5dd5',), 'transactions': ['Bob', 'Grace'], 'block_hash': '9b0a86fa34c0dad4042188e8908ba2154e6497ab576923e907b2498aab02807c'}]\n"
          ]
        }
      ]
    }
  ]
}