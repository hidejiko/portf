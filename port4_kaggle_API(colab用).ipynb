{
  "nbformat": 4,
  "nbformat_minor": 0,
  "metadata": {
    "colab": {
      "provenance": []
    },
    "kernelspec": {
      "name": "python3",
      "display_name": "Python 3"
    },
    "language_info": {
      "name": "python"
    }
  },
  "cells": [
    {
      "cell_type": "code",
      "execution_count": null,
      "metadata": {
        "colab": {
          "base_uri": "https://localhost:8080/"
        },
        "id": "uVTyiZIB2VLv",
        "outputId": "971d774c-1005-4bb4-ba08-2a6bef14a458"
      },
      "outputs": [
        {
          "output_type": "stream",
          "name": "stdout",
          "text": [
            "Looking in indexes: https://pypi.org/simple, https://us-python.pkg.dev/colab-wheels/public/simple/\n",
            "Requirement already satisfied: kaggle in /usr/local/lib/python3.10/dist-packages (1.5.13)\n",
            "Requirement already satisfied: six>=1.10 in /usr/local/lib/python3.10/dist-packages (from kaggle) (1.16.0)\n",
            "Requirement already satisfied: requests in /usr/local/lib/python3.10/dist-packages (from kaggle) (2.27.1)\n",
            "Requirement already satisfied: urllib3 in /usr/local/lib/python3.10/dist-packages (from kaggle) (1.26.15)\n",
            "Requirement already satisfied: python-dateutil in /usr/local/lib/python3.10/dist-packages (from kaggle) (2.8.2)\n",
            "Requirement already satisfied: python-slugify in /usr/local/lib/python3.10/dist-packages (from kaggle) (8.0.1)\n",
            "Requirement already satisfied: tqdm in /usr/local/lib/python3.10/dist-packages (from kaggle) (4.65.0)\n",
            "Requirement already satisfied: certifi in /usr/local/lib/python3.10/dist-packages (from kaggle) (2022.12.7)\n",
            "Requirement already satisfied: text-unidecode>=1.3 in /usr/local/lib/python3.10/dist-packages (from python-slugify->kaggle) (1.3)\n",
            "Requirement already satisfied: idna<4,>=2.5 in /usr/local/lib/python3.10/dist-packages (from requests->kaggle) (3.4)\n",
            "Requirement already satisfied: charset-normalizer~=2.0.0 in /usr/local/lib/python3.10/dist-packages (from requests->kaggle) (2.0.12)\n"
          ]
        }
      ],
      "source": [
        "## Google colabでKaggleのデータを利用する【Kaagle API】\n",
        "\n",
        "\n",
        "!pip install kaggle"
      ]
    },
    {
      "cell_type": "code",
      "source": [
        "from google.colab import drive\n",
        "drive.mount('/content/drive')"
      ],
      "metadata": {
        "colab": {
          "base_uri": "https://localhost:8080/"
        },
        "id": "69xM1MbK2Zw6",
        "outputId": "4072acc3-84cd-4aea-9c7a-1c0084d92376"
      },
      "execution_count": null,
      "outputs": [
        {
          "output_type": "stream",
          "name": "stdout",
          "text": [
            "Mounted at /content/drive\n"
          ]
        }
      ]
    },
    {
      "cell_type": "markdown",
      "source": [
        "キーなど認証を別ファイルでドライブに置いてある"
      ],
      "metadata": {
        "id": "x9ORDoKv1TrN"
      }
    },
    {
      "cell_type": "code",
      "source": [
        "import os\n",
        "import json\n",
        "f = open(\"/content/drive/MyDrive/kaggle.json\", 'r')\n",
        "json_data = json.load(f)\n",
        "os.environ['KAGGLE_USERNAME'] = json_data['username']\n",
        "os.environ['KAGGLE_KEY'] = json_data['key']"
      ],
      "metadata": {
        "id": "J4NMQows2yMJ"
      },
      "execution_count": null,
      "outputs": []
    },
    {
      "cell_type": "code",
      "source": [
        "## 1. kaggle ライブラリをインポート\n",
        "from kaggle.api.kaggle_api_extended import KaggleApi"
      ],
      "metadata": {
        "id": "I_AZlaZX3asn"
      },
      "execution_count": null,
      "outputs": []
    },
    {
      "cell_type": "code",
      "source": [
        "# 2. KaggleApi のインスタンスを用意\n",
        "##KaggleApi クラスにいろいろな処理が書かれているので、こちらのインスタンスを準備\n",
        "api = KaggleApi()"
      ],
      "metadata": {
        "id": "ZzoVcZ1w3VWo"
      },
      "execution_count": null,
      "outputs": []
    },
    {
      "cell_type": "code",
      "source": [
        "# 3.認証を通す\n",
        "##ローカルにある ~/.kaggle/kaggle.jsonを読み込みに行って、なんやかんやしてくれます。\n",
        "api.authenticate()"
      ],
      "metadata": {
        "id": "ezd2Wbow20tw"
      },
      "execution_count": null,
      "outputs": []
    },
    {
      "cell_type": "markdown",
      "source": [
        "コンペごとのサブミット一覧を出すAPI\n",
        "clabの場合は頭に!マークをつけること"
      ],
      "metadata": {
        "id": "unvsEu-I1CcR"
      }
    },
    {
      "cell_type": "code",
      "source": [
        "kaggle competitions leaderboard コンペ名 --download"
      ],
      "metadata": {
        "id": "WyPJcsDqBhhq"
      },
      "execution_count": null,
      "outputs": []
    },
    {
      "cell_type": "code",
      "source": [
        "!kaggle competitions submit -f 'aaaa.txt' --message \"Titanic\""
      ],
      "metadata": {
        "colab": {
          "base_uri": "https://localhost:8080/"
        },
        "id": "HIFQ1NqxxkpD",
        "outputId": "55a106ed-1143-46c2-fb98-87d046ee351a"
      },
      "execution_count": null,
      "outputs": [
        {
          "output_type": "stream",
          "name": "stdout",
          "text": [
            "No competition specified\n"
          ]
        }
      ]
    },
    {
      "cell_type": "code",
      "source": [
        "!kaggle competitions submissions 'Titanic'"
      ],
      "metadata": {
        "colab": {
          "base_uri": "https://localhost:8080/"
        },
        "id": "-y88Hr8U18YH",
        "outputId": "b3bdc048-3721-4ddc-bb50-776999c52707"
      },
      "execution_count": null,
      "outputs": [
        {
          "output_type": "stream",
          "name": "stdout",
          "text": [
            "No submissions found\n"
          ]
        }
      ]
    },
    {
      "cell_type": "code",
      "source": [
        "## コンペのリストを表示させてみます。\n",
        "# $ kaggle competitions list\n",
        "api.competitions_list_cli()"
      ],
      "metadata": {
        "colab": {
          "base_uri": "https://localhost:8080/"
        },
        "id": "rD53SoFq3giY",
        "outputId": "96509b56-6cf5-4ffb-ac23-019039efd7d1"
      },
      "execution_count": null,
      "outputs": [
        {
          "output_type": "stream",
          "name": "stdout",
          "text": [
            "ref                                                                                deadline             category             reward  teamCount  userHasEntered  \n",
            "---------------------------------------------------------------------------------  -------------------  ---------------  ----------  ---------  --------------  \n",
            "https://www.kaggle.com/competitions/vesuvius-challenge-ink-detection               2023-06-14 23:59:00  Featured         $1,000,000        649           False  \n",
            "https://www.kaggle.com/competitions/asl-signs                                      2023-05-01 23:59:00  Research           $100,000       1150           False  \n",
            "https://www.kaggle.com/competitions/tlvmc-parkinsons-freezing-gait-prediction      2023-06-08 23:59:00  Research           $100,000        751           False  \n",
            "https://www.kaggle.com/competitions/amp-parkinsons-disease-progression-prediction  2023-05-18 23:59:00  Featured            $60,000       1463           False  \n",
            "https://www.kaggle.com/competitions/predict-student-performance-from-game-play     2023-06-14 23:59:00  Featured            $55,000        849           False  \n",
            "https://www.kaggle.com/competitions/stable-diffusion-image-to-prompts              2023-05-15 23:59:00  Featured            $50,000       1113           False  \n",
            "https://www.kaggle.com/competitions/birdclef-2023                                  2023-05-24 23:59:00  Research            $50,000        900           False  \n",
            "https://www.kaggle.com/competitions/benetech-making-graphs-accessible              2023-06-12 23:59:00  Featured            $50,000        189           False  \n",
            "https://www.kaggle.com/competitions/image-matching-challenge-2023                  2023-06-12 23:59:00  Research            $50,000        128           False  \n",
            "https://www.kaggle.com/competitions/cafa-5-protein-function-prediction             2023-08-21 23:59:00  Research            $50,000        157           False  \n",
            "https://www.kaggle.com/competitions/playground-series-s3e13                        2023-05-01 23:59:00  Playground             Swag        773           False  \n",
            "https://www.kaggle.com/competitions/fathomnet-out-of-sample-detection              2023-05-23 23:59:00  Research          Knowledge         34           False  \n",
            "https://www.kaggle.com/competitions/titanic                                        2030-01-01 00:00:00  Getting Started   Knowledge      16354           False  \n",
            "https://www.kaggle.com/competitions/house-prices-advanced-regression-techniques    2030-01-01 00:00:00  Getting Started   Knowledge       4540           False  \n",
            "https://www.kaggle.com/competitions/spaceship-titanic                              2030-01-01 00:00:00  Getting Started   Knowledge       2625           False  \n",
            "https://www.kaggle.com/competitions/digit-recognizer                               2030-01-01 00:00:00  Getting Started   Knowledge       1593           False  \n",
            "https://www.kaggle.com/competitions/nlp-getting-started                            2030-01-01 00:00:00  Getting Started   Knowledge       1139           False  \n",
            "https://www.kaggle.com/competitions/connectx                                       2030-01-01 00:00:00  Getting Started   Knowledge        236           False  \n",
            "https://www.kaggle.com/competitions/tpu-getting-started                            2030-06-03 23:59:00  Getting Started   Knowledge        171           False  \n",
            "https://www.kaggle.com/competitions/store-sales-time-series-forecasting            2030-06-30 23:59:00  Getting Started   Knowledge        747           False  \n"
          ]
        }
      ]
    },
    {
      "cell_type": "code",
      "source": [
        "## 各コンペの情報を取得\n",
        "##listはコンペの情報を取ってこれます。\n",
        "competitions_list = api.competitions_list(category='featured')\n",
        "for competition in competitions_list:\n",
        "    print(competition)"
      ],
      "metadata": {
        "colab": {
          "base_uri": "https://localhost:8080/"
        },
        "id": "zKz5GbKD3n03",
        "outputId": "793ca981-6697-43ad-b029-b3d7e337455d"
      },
      "execution_count": null,
      "outputs": [
        {
          "output_type": "stream",
          "name": "stdout",
          "text": [
            "https://www.kaggle.com/competitions/vesuvius-challenge-ink-detection\n",
            "https://www.kaggle.com/competitions/amp-parkinsons-disease-progression-prediction\n",
            "https://www.kaggle.com/competitions/predict-student-performance-from-game-play\n",
            "https://www.kaggle.com/competitions/stable-diffusion-image-to-prompts\n",
            "https://www.kaggle.com/competitions/benetech-making-graphs-accessible\n",
            "https://www.kaggle.com/competitions/godaddy-microbusiness-density-forecasting\n",
            "https://www.kaggle.com/competitions/lux-ai-season-2\n"
          ]
        }
      ]
    },
    {
      "cell_type": "code",
      "source": [
        "## どんな情報が入っているか見てみます。\n",
        "##list では取ってこれない情報がけっこうある\n",
        "for key in dir(competitions_list[0]):\n",
        "    print('{}: {}'.format(key, getattr(competitions_list[0], key)))"
      ],
      "metadata": {
        "colab": {
          "base_uri": "https://localhost:8080/"
        },
        "id": "qdy3fmq03s4P",
        "outputId": "f79535ac-372c-4cdf-b295-3e6e46105704"
      },
      "execution_count": null,
      "outputs": [
        {
          "output_type": "stream",
          "name": "stdout",
          "text": [
            "__class__: <class 'kaggle.models.kaggle_models_extended.Competition'>\n",
            "__delattr__: <method-wrapper '__delattr__' of Competition object at 0x7f60147c06d0>\n",
            "__dict__: {'titleNullable': 'Vesuvius Challenge - Ink Detection', 'urlNullable': 'https://www.kaggle.com/competitions/vesuvius-challenge-ink-detection', 'descriptionNullable': 'Resurrect an ancient library from the ashes of a volcano', 'organizationNameNullable': 'Vesuvius Challenge', 'organizationRefNullable': None, 'categoryNullable': 'Featured', 'rewardNullable': '$1,000,000', 'userRankNullable': None, 'maxTeamSizeNullable': 5, 'evaluationMetricNullable': 'DiceFBeta', 'id': 47317, 'ref': 'https://www.kaggle.com/competitions/vesuvius-challenge-ink-detection', 'title': 'Vesuvius Challenge - Ink Detection', 'hasTitle': True, 'url': 'https://www.kaggle.com/competitions/vesuvius-challenge-ink-detection', 'hasUrl': True, 'description': 'Resurrect an ancient library from the ashes of a volcano', 'hasDescription': True, 'organizationName': 'Vesuvius Challenge', 'hasOrganizationName': True, 'organizationRef': '', 'hasOrganizationRef': False, 'category': 'Featured', 'hasCategory': True, 'reward': '$1,000,000', 'hasReward': True, 'tags': [image segmentation, history, image text recognition], 'deadline': datetime.datetime(2023, 6, 14, 23, 59), 'kernelCount': 0, 'teamCount': 649, 'userHasEntered': False, 'userRank': 0, 'hasUserRank': False, 'mergerDeadline': datetime.datetime(2023, 6, 7, 23, 59), 'newEntrantDeadline': datetime.datetime(2023, 6, 7, 23, 59), 'enabledDate': datetime.datetime(2023, 3, 15, 15, 26, 22), 'maxDailySubmissions': 5, 'maxTeamSize': 5, 'hasMaxTeamSize': True, 'evaluationMetric': 'DiceFBeta', 'hasEvaluationMetric': True, 'awardsPoints': True, 'isKernelsSubmissionsOnly': True, 'submissionsDisabled': False}\n",
            "__dir__: <built-in method __dir__ of Competition object at 0x7f60147c06d0>\n",
            "__doc__: None\n",
            "__eq__: <method-wrapper '__eq__' of Competition object at 0x7f60147c06d0>\n",
            "__format__: <built-in method __format__ of Competition object at 0x7f60147c06d0>\n",
            "__ge__: <method-wrapper '__ge__' of Competition object at 0x7f60147c06d0>\n",
            "__getattribute__: <method-wrapper '__getattribute__' of Competition object at 0x7f60147c06d0>\n",
            "__gt__: <method-wrapper '__gt__' of Competition object at 0x7f60147c06d0>\n",
            "__hash__: <method-wrapper '__hash__' of Competition object at 0x7f60147c06d0>\n",
            "__init__: <bound method Competition.__init__ of https://www.kaggle.com/competitions/vesuvius-challenge-ink-detection>\n",
            "__init_subclass__: <built-in method __init_subclass__ of type object at 0x2ca4c10>\n",
            "__le__: <method-wrapper '__le__' of Competition object at 0x7f60147c06d0>\n",
            "__lt__: <method-wrapper '__lt__' of Competition object at 0x7f60147c06d0>\n",
            "__module__: kaggle.models.kaggle_models_extended\n",
            "__ne__: <method-wrapper '__ne__' of Competition object at 0x7f60147c06d0>\n",
            "__new__: <built-in method __new__ of type object at 0x95fde0>\n",
            "__reduce__: <built-in method __reduce__ of Competition object at 0x7f60147c06d0>\n",
            "__reduce_ex__: <built-in method __reduce_ex__ of Competition object at 0x7f60147c06d0>\n",
            "__repr__: <bound method Competition.__repr__ of https://www.kaggle.com/competitions/vesuvius-challenge-ink-detection>\n",
            "__setattr__: <method-wrapper '__setattr__' of Competition object at 0x7f60147c06d0>\n",
            "__sizeof__: <built-in method __sizeof__ of Competition object at 0x7f60147c06d0>\n",
            "__str__: <method-wrapper '__str__' of Competition object at 0x7f60147c06d0>\n",
            "__subclasshook__: <built-in method __subclasshook__ of type object at 0x2ca4c10>\n",
            "__weakref__: None\n",
            "awardsPoints: True\n",
            "category: Featured\n",
            "categoryNullable: Featured\n",
            "deadline: 2023-06-14 23:59:00\n",
            "description: Resurrect an ancient library from the ashes of a volcano\n",
            "descriptionNullable: Resurrect an ancient library from the ashes of a volcano\n",
            "enabledDate: 2023-03-15 15:26:22\n",
            "evaluationMetric: DiceFBeta\n",
            "evaluationMetricNullable: DiceFBeta\n",
            "hasCategory: True\n",
            "hasDescription: True\n",
            "hasEvaluationMetric: True\n",
            "hasMaxTeamSize: True\n",
            "hasOrganizationName: True\n",
            "hasOrganizationRef: False\n",
            "hasReward: True\n",
            "hasTitle: True\n",
            "hasUrl: True\n",
            "hasUserRank: False\n",
            "id: 47317\n",
            "isKernelsSubmissionsOnly: True\n",
            "kernelCount: 0\n",
            "maxDailySubmissions: 5\n",
            "maxTeamSize: 5\n",
            "maxTeamSizeNullable: 5\n",
            "mergerDeadline: 2023-06-07 23:59:00\n",
            "newEntrantDeadline: 2023-06-07 23:59:00\n",
            "organizationName: Vesuvius Challenge\n",
            "organizationNameNullable: Vesuvius Challenge\n",
            "organizationRef: \n",
            "organizationRefNullable: None\n",
            "ref: https://www.kaggle.com/competitions/vesuvius-challenge-ink-detection\n",
            "reward: $1,000,000\n",
            "rewardNullable: $1,000,000\n",
            "submissionsDisabled: False\n",
            "tags: [image segmentation, history, image text recognition]\n",
            "teamCount: 649\n",
            "title: Vesuvius Challenge - Ink Detection\n",
            "titleNullable: Vesuvius Challenge - Ink Detection\n",
            "url: https://www.kaggle.com/competitions/vesuvius-challenge-ink-detection\n",
            "urlNullable: https://www.kaggle.com/competitions/vesuvius-challenge-ink-detection\n",
            "userHasEntered: False\n",
            "userRank: 0\n",
            "userRankNullable: None\n"
          ]
        }
      ]
    },
    {
      "cell_type": "code",
      "source": [
        "## Kernel の情報を取得\n",
        "kernels_list = api.kernels_list(competition='elo-merchant-category-recommendation')\n",
        "for key in dir(kernels_list[0]):\n",
        "    print('{}: {}'.format(key, getattr(kernels_list[0], key)))"
      ],
      "metadata": {
        "colab": {
          "base_uri": "https://localhost:8080/"
        },
        "id": "enMGIjKQ4HMY",
        "outputId": "c9f0239c-67e0-45cb-e352-14b464e75c53"
      },
      "execution_count": null,
      "outputs": [
        {
          "output_type": "stream",
          "name": "stdout",
          "text": [
            "__class__: <class 'kaggle.models.kaggle_models_extended.Kernel'>\n",
            "__delattr__: <method-wrapper '__delattr__' of Kernel object at 0x7f601478ff70>\n",
            "__dict__: {'languageNullable': None, 'kernelTypeNullable': None, 'isPrivateNullable': None, 'enableGpuNullable': None, 'enableInternetNullable': None, 'id': 0, 'ref': 'zhaolingxuan/elo-world', 'title': 'ELO world', 'author': 'Zhao LingXuan', 'slug': '', 'lastRunTime': datetime.datetime(2023, 3, 7, 3, 24, 9), 'language': '', 'hasLanguage': False, 'kernelType': '', 'hasKernelType': False, 'isPrivate': False, 'hasIsPrivate': False, 'enableGpu': False, 'hasEnableGpu': False, 'enableInternet': False, 'hasEnableInternet': False, 'categoryIds': [], 'datasetDataSources': [], 'kernelDataSources': [], 'competitionDataSources': [], 'totalVotes': 1}\n",
            "__dir__: <built-in method __dir__ of Kernel object at 0x7f601478ff70>\n",
            "__doc__: None\n",
            "__eq__: <method-wrapper '__eq__' of Kernel object at 0x7f601478ff70>\n",
            "__format__: <built-in method __format__ of Kernel object at 0x7f601478ff70>\n",
            "__ge__: <method-wrapper '__ge__' of Kernel object at 0x7f601478ff70>\n",
            "__getattribute__: <method-wrapper '__getattribute__' of Kernel object at 0x7f601478ff70>\n",
            "__gt__: <method-wrapper '__gt__' of Kernel object at 0x7f601478ff70>\n",
            "__hash__: <method-wrapper '__hash__' of Kernel object at 0x7f601478ff70>\n",
            "__init__: <bound method Kernel.__init__ of ELO world>\n",
            "__init_subclass__: <built-in method __init_subclass__ of type object at 0x2caa420>\n",
            "__le__: <method-wrapper '__le__' of Kernel object at 0x7f601478ff70>\n",
            "__lt__: <method-wrapper '__lt__' of Kernel object at 0x7f601478ff70>\n",
            "__module__: kaggle.models.kaggle_models_extended\n",
            "__ne__: <method-wrapper '__ne__' of Kernel object at 0x7f601478ff70>\n",
            "__new__: <built-in method __new__ of type object at 0x95fde0>\n",
            "__reduce__: <built-in method __reduce__ of Kernel object at 0x7f601478ff70>\n",
            "__reduce_ex__: <built-in method __reduce_ex__ of Kernel object at 0x7f601478ff70>\n",
            "__repr__: <bound method Kernel.__repr__ of ELO world>\n",
            "__setattr__: <method-wrapper '__setattr__' of Kernel object at 0x7f601478ff70>\n",
            "__sizeof__: <built-in method __sizeof__ of Kernel object at 0x7f601478ff70>\n",
            "__str__: <method-wrapper '__str__' of Kernel object at 0x7f601478ff70>\n",
            "__subclasshook__: <built-in method __subclasshook__ of type object at 0x2caa420>\n",
            "__weakref__: None\n",
            "author: Zhao LingXuan\n",
            "categoryIds: []\n",
            "competitionDataSources: []\n",
            "datasetDataSources: []\n",
            "enableGpu: False\n",
            "enableGpuNullable: None\n",
            "enableInternet: False\n",
            "enableInternetNullable: None\n",
            "hasEnableGpu: False\n",
            "hasEnableInternet: False\n",
            "hasIsPrivate: False\n",
            "hasKernelType: False\n",
            "hasLanguage: False\n",
            "id: 0\n",
            "isPrivate: False\n",
            "isPrivateNullable: None\n",
            "kernelDataSources: []\n",
            "kernelType: \n",
            "kernelTypeNullable: None\n",
            "language: \n",
            "languageNullable: None\n",
            "lastRunTime: 2023-03-07 03:24:09\n",
            "ref: zhaolingxuan/elo-world\n",
            "slug: \n",
            "title: ELO world\n",
            "totalVotes: 1\n"
          ]
        }
      ]
    }
  ]
}