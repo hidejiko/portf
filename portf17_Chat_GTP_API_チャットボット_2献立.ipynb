{
  "nbformat": 4,
  "nbformat_minor": 0,
  "metadata": {
    "colab": {
      "provenance": []
    },
    "kernelspec": {
      "name": "python3",
      "display_name": "Python 3"
    },
    "language_info": {
      "name": "python"
    }
  },
  "cells": [
    {
      "cell_type": "markdown",
      "source": [
        "ChatGPT 活用 ～ OpenAI の ChatGPT API で チャットボット"
      ],
      "metadata": {
        "id": "uD7yeq2cSMDW"
      }
    },
    {
      "cell_type": "code",
      "execution_count": null,
      "metadata": {
        "id": "BWb7jrRkRLMJ",
        "colab": {
          "base_uri": "https://localhost:8080/"
        },
        "outputId": "5d6e3af1-2b29-43cd-bb3b-b1bdf3118152"
      },
      "outputs": [
        {
          "output_type": "stream",
          "name": "stdout",
          "text": [
            "Collecting openai\n",
            "  Downloading openai-1.4.0-py3-none-any.whl (221 kB)\n",
            "\u001b[?25l     \u001b[90m━━━━━━━━━━━━━━━━━━━━━━━━━━━━━━━━━━━━━━━━\u001b[0m \u001b[32m0.0/221.9 kB\u001b[0m \u001b[31m?\u001b[0m eta \u001b[36m-:--:--\u001b[0m\r\u001b[2K     \u001b[91m━━━━━━━━━━━━\u001b[0m\u001b[91m╸\u001b[0m\u001b[90m━━━━━━━━━━━━━━━━━━━━━━━━━━━\u001b[0m \u001b[32m71.7/221.9 kB\u001b[0m \u001b[31m1.9 MB/s\u001b[0m eta \u001b[36m0:00:01\u001b[0m\r\u001b[2K     \u001b[90m━━━━━━━━━━━━━━━━━━━━━━━━━━━━━━━━━━━━━━━━\u001b[0m \u001b[32m221.9/221.9 kB\u001b[0m \u001b[31m3.7 MB/s\u001b[0m eta \u001b[36m0:00:00\u001b[0m\n",
            "\u001b[?25hRequirement already satisfied: anyio<5,>=3.5.0 in /usr/local/lib/python3.10/dist-packages (from openai) (3.7.1)\n",
            "Requirement already satisfied: distro<2,>=1.7.0 in /usr/lib/python3/dist-packages (from openai) (1.7.0)\n",
            "Collecting httpx<1,>=0.23.0 (from openai)\n",
            "  Downloading httpx-0.25.2-py3-none-any.whl (74 kB)\n",
            "\u001b[2K     \u001b[90m━━━━━━━━━━━━━━━━━━━━━━━━━━━━━━━━━━━━━━━━\u001b[0m \u001b[32m75.0/75.0 kB\u001b[0m \u001b[31m8.5 MB/s\u001b[0m eta \u001b[36m0:00:00\u001b[0m\n",
            "\u001b[?25hRequirement already satisfied: pydantic<3,>=1.9.0 in /usr/local/lib/python3.10/dist-packages (from openai) (1.10.13)\n",
            "Requirement already satisfied: sniffio in /usr/local/lib/python3.10/dist-packages (from openai) (1.3.0)\n",
            "Requirement already satisfied: tqdm>4 in /usr/local/lib/python3.10/dist-packages (from openai) (4.66.1)\n",
            "Requirement already satisfied: typing-extensions<5,>=4.5 in /usr/local/lib/python3.10/dist-packages (from openai) (4.5.0)\n",
            "Requirement already satisfied: idna>=2.8 in /usr/local/lib/python3.10/dist-packages (from anyio<5,>=3.5.0->openai) (3.6)\n",
            "Requirement already satisfied: exceptiongroup in /usr/local/lib/python3.10/dist-packages (from anyio<5,>=3.5.0->openai) (1.2.0)\n",
            "Requirement already satisfied: certifi in /usr/local/lib/python3.10/dist-packages (from httpx<1,>=0.23.0->openai) (2023.11.17)\n",
            "Collecting httpcore==1.* (from httpx<1,>=0.23.0->openai)\n",
            "  Downloading httpcore-1.0.2-py3-none-any.whl (76 kB)\n",
            "\u001b[2K     \u001b[90m━━━━━━━━━━━━━━━━━━━━━━━━━━━━━━━━━━━━━━━━\u001b[0m \u001b[32m76.9/76.9 kB\u001b[0m \u001b[31m8.3 MB/s\u001b[0m eta \u001b[36m0:00:00\u001b[0m\n",
            "\u001b[?25hCollecting h11<0.15,>=0.13 (from httpcore==1.*->httpx<1,>=0.23.0->openai)\n",
            "  Downloading h11-0.14.0-py3-none-any.whl (58 kB)\n",
            "\u001b[2K     \u001b[90m━━━━━━━━━━━━━━━━━━━━━━━━━━━━━━━━━━━━━━━━\u001b[0m \u001b[32m58.3/58.3 kB\u001b[0m \u001b[31m6.2 MB/s\u001b[0m eta \u001b[36m0:00:00\u001b[0m\n",
            "\u001b[?25hInstalling collected packages: h11, httpcore, httpx, openai\n",
            "\u001b[31mERROR: pip's dependency resolver does not currently take into account all the packages that are installed. This behaviour is the source of the following dependency conflicts.\n",
            "llmx 0.0.15a0 requires cohere, which is not installed.\n",
            "llmx 0.0.15a0 requires tiktoken, which is not installed.\u001b[0m\u001b[31m\n",
            "\u001b[0mSuccessfully installed h11-0.14.0 httpcore-1.0.2 httpx-0.25.2 openai-1.4.0\n"
          ]
        }
      ],
      "source": [
        "!pip install openai"
      ]
    },
    {
      "cell_type": "code",
      "source": [
        "import os\n",
        "import openai"
      ],
      "metadata": {
        "id": "6CegS5l5Ra0U"
      },
      "execution_count": null,
      "outputs": []
    },
    {
      "cell_type": "code",
      "source": [
        "# OpenAIのAPIキーを設定(2)この入れ方しかできなくなった\n",
        "\n",
        "f = open('gptkey.txt','r')\n",
        "ai_key = f.read()\n",
        "f.close()\n",
        "\n",
        "client = openai.OpenAI(\n",
        "    api_key = ai_key\n",
        ")"
      ],
      "metadata": {
        "id": "nLhYTCoLRf8u"
      },
      "execution_count": null,
      "outputs": []
    },
    {
      "cell_type": "code",
      "source": [
        "## チャットボットを呼び出す関数\n",
        "\n",
        "def Ans_ChatGTP(question):\n",
        "    completion = client.chat.completions.create(\n",
        "        model=\"gpt-3.5-turbo\",\n",
        "        messages=[{\n",
        "              \"role\": \"user\", #ユーザーの発話であること\n",
        "              \"content\":question,\n",
        "        }]\n",
        "    )\n",
        "\n",
        "    ## 質問の回答をresponseに代入\n",
        "    response = completion.choices[0].message.content\n",
        "    ## 回答を出力\n",
        "    return(response)\n"
      ],
      "metadata": {
        "id": "UPfDPGcdRsN1"
      },
      "execution_count": null,
      "outputs": []
    },
    {
      "cell_type": "code",
      "source": [
        "## チャットボットへの質問\n",
        "# 質問を入力\n",
        "question=\"一週間の献立を考えてください。\"\n",
        "\n",
        "# ChatGPTを起動\n",
        "answer=Ans_ChatGTP(question)\n",
        "# ChatGPTからの答えを出力\n",
        "print(answer)\n",
        "\n"
      ],
      "metadata": {
        "colab": {
          "base_uri": "https://localhost:8080/"
        },
        "id": "K51j9gHAS63-",
        "outputId": "af196802-2547-4770-8117-8152b94bcbac"
      },
      "execution_count": null,
      "outputs": [
        {
          "output_type": "stream",
          "name": "stdout",
          "text": [
            "以下は、一週間の献立の例です。特定の食材や制約がある場合は、具体的な要望を教えてください。\n",
            "\n",
            "月曜日:\n",
            "朝食 - トーストとスクランブルエッグ、フルーツ\n",
            "昼食 - グリーンサラダとチキンサンドイッチ\n",
            "夕食 - グリルチキン、ローストポテト、野菜のスティック\n",
            "\n",
            "火曜日:\n",
            "朝食 - オートミールとバナナ、ヨーグルト\n",
            "昼食 - ケサディーヤ、サラダ\n",
            "夕食 - ビーフシチュー、ライス、サラダ\n",
            "\n",
            "水曜日:\n",
            "朝食 - スムージー、トースト\n",
            "昼食 - カプレーゼサンドイッチ、野菜スティック\n",
            "夕食 - サーモンのグリル、クスクス、ロースト野菜\n",
            "\n",
            "木曜日:\n",
            "朝食 - パンケーキとベーコン、フルーツ\n",
            "昼食 - タコスサラダ、トルティーヤチップス\n",
            "夕食 - ビーフステーキ、マッシュポテト、グリーンビーンズ\n",
            "\n",
            "金曜日:\n",
            "朝食 - ヨーグルトとフルーツ、グラノーラ\n",
            "昼食 - カレーライス、サラダ\n",
            "夕食 - グリルチーズサンドイッチ、トマトスープ\n",
            "\n",
            "土曜日:\n",
            "朝食 - エッグベネディクト、ハッシュブラウン、フルーツ\n",
            "昼食 - アボカドトースト、グリーンサラダ\n",
            "夕食 - パスタプリマベーラ、ガーリックトースト\n",
            "\n",
            "日曜日:\n",
            "朝食 - フレンチトースト、ベーコン、フルーツ\n",
            "昼食 - ピザ、サラダ\n",
            "夕食 - ローストチキン、ミックスベリーコンポート、ロースト野菜\n",
            "\n",
            "この一週間の献立は、バランスの取れた食事を提供するために、タンパク質、炭水化物、野菜、果物をバランスよく組み合わせています。また、各食事の栄養バランスを調整することも可能です。\n"
          ]
        }
      ]
    }
  ]
}