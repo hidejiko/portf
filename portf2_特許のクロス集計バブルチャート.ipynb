{
  "nbformat": 4,
  "nbformat_minor": 0,
  "metadata": {
    "colab": {
      "provenance": []
    },
    "kernelspec": {
      "name": "python3",
      "display_name": "Python 3"
    },
    "language_info": {
      "name": "python"
    }
  },
  "cells": [
    {
      "cell_type": "markdown",
      "source": [
        "特許データのクロス集計\n"
      ],
      "metadata": {
        "id": "-j7M-M5Me_m-"
      }
    },
    {
      "cell_type": "code",
      "source": [
        "import os"
      ],
      "metadata": {
        "id": "WRXaU1zYgKKV"
      },
      "execution_count": null,
      "outputs": []
    },
    {
      "cell_type": "code",
      "source": [
        "from google.colab import drive\n",
        "drive.mount('/content/drive')"
      ],
      "metadata": {
        "colab": {
          "base_uri": "https://localhost:8080/"
        },
        "id": "DbewzVdCgNCX",
        "outputId": "3e68c392-c3df-4aa6-f4fc-a84feee82e99"
      },
      "execution_count": null,
      "outputs": [
        {
          "output_type": "stream",
          "name": "stdout",
          "text": [
            "Mounted at /content/drive\n"
          ]
        }
      ]
    },
    {
      "cell_type": "code",
      "source": [
        "os.chdir('/content/drive/MyDrive/patent4')"
      ],
      "metadata": {
        "id": "7LwwgcdHgR5F"
      },
      "execution_count": null,
      "outputs": []
    },
    {
      "cell_type": "markdown",
      "source": [
        "データフレームの作成\n"
      ],
      "metadata": {
        "id": "cM-8mQ1PfQkS"
      }
    },
    {
      "cell_type": "code",
      "source": [
        "import pandas as pd\n",
        "# googleドライブの利用\n",
        "#from google.colab import drive\n",
        "#drive.mount('/content/drive')\n",
        "# データの前処理\n",
        "# データの読み込み(google ドライブから)\n",
        "df_drone_data_0 = pd.read_csv(\"/content/drive/MyDrive/patent4/J-PlatPat2015.csv\")\n",
        "df_drone_data_1 = pd.read_csv(\"/content/drive/MyDrive/patent4/J-PlatPat2016.csv\")\n",
        "df_drone_data_2 = pd.read_csv(\"/content/drive/MyDrive/patent4/J-PlatPat2017.csv\")\n",
        "df_drone_data_3 = pd.read_csv(\"/content/drive/MyDrive/patent4/J-PlatPat2018.csv\")\n",
        "df_drone_data_4 = pd.read_csv(\"/content/drive/MyDrive/patent4/J-PlatPat2019.csv\")\n",
        "df_drone_data_5 = pd.read_csv(\"/content/drive/MyDrive/patent4/J-PlatPat2020.csv\")\n",
        "df_drone_data_6 = pd.read_csv(\"/content/drive/MyDrive/patent4/J-PlatPat2021.csv\")\n",
        "df_drone_data_7 = pd.read_csv(\"/content/drive/MyDrive/patent4/J-PlatPat2022.csv\")\n",
        "df_drone_data_8 = pd.read_csv(\"/content/drive/MyDrive/patent4/J-PlatPat2023.csv\")\n",
        "df_drone_data_9 = pd.read_csv(\"/content/drive/MyDrive/patent4/J-PlatPat2024.csv\")\n",
        "#df_drone_data_2 = pd.read_csv(\"/content/drive/MyDrive/pat_data_drone.20190101.csv\", encoding = \"shift-jis\")\n",
        "# データフレームの結合（縦方向）\n",
        "df_drone_data = pd.concat([df_drone_data_0, df_drone_data_1, df_drone_data_2, df_drone_data_3, df_drone_data_4, df_drone_data_5, df_drone_data_6, df_drone_data_7, df_drone_data_8, df_drone_data_9], ignore_index = True)\n",
        "#必要な列のみ抽出\n",
        "df_drone_data = df_drone_data[['出願人/権利者', 'FI']]\n",
        "#不要語の削除（出願人/権利者）\n",
        "df_drone_data['出願人/権利者'] = df_drone_data['出願人/権利者'].str.replace('▲', '')\n",
        "df_drone_data['出願人/権利者'] = df_drone_data['出願人/権利者'].str.replace('▼', '')\n",
        "# 欠落データを削除\n",
        "df_drone_data = df_drone_data.dropna(axis=0)\n",
        "# データフレームの確認\n",
        "print(df_drone_data)"
      ],
      "metadata": {
        "colab": {
          "base_uri": "https://localhost:8080/"
        },
        "id": "F06qk7SifM9M",
        "outputId": "2ab45053-ed35-4f06-944a-28373ac1ec2f"
      },
      "execution_count": null,
      "outputs": [
        {
          "output_type": "stream",
          "name": "stdout",
          "text": [
            "                               出願人/権利者  \\\n",
            "0                             株式会社レグシス   \n",
            "1                              株式会社ＪＯＮ   \n",
            "2                            株式会社カタルシス   \n",
            "3                     三井不動産レジデンシャル株式会社   \n",
            "4                     三井不動産レジデンシャル株式会社   \n",
            "..                                 ...   \n",
            "909                   Ｓｅｃｕｒｉｔｉｚｅ２４合同会社   \n",
            "910                          株式会社オービック   \n",
            "911  プロパー　ピーティーイー　リミテッド              他   \n",
            "912                 株式会社ドッドウエルビー・エム・エス   \n",
            "913                         株式会社Ｆａｃｉｌｏ   \n",
            "\n",
            "                                            FI  \n",
            "0        ,G06Q50/16,G06Q20/24,G06Q30/02,140,他,  \n",
            "1                        ,G06Q50/16,G06Q50/26,  \n",
            "2    ,G06Q30/06,130,G06Q50/16,G06Q30/06,300,他,  \n",
            "3        ,A47B81/00@E,A47B87/00,A47B97/00@J,他,  \n",
            "4                 ,A47B81/00@E,E04B2/74,541@C,  \n",
            "..                                         ...  \n",
            "909                     G06Q50/16G06Q20/38,310  \n",
            "910                    G06Q50/16,300G06Q50/163  \n",
            "911                                  G06Q50/16  \n",
            "912                                E05B19/00@E  \n",
            "913                                  G06Q50/16  \n",
            "\n",
            "[914 rows x 2 columns]\n"
          ]
        }
      ]
    },
    {
      "cell_type": "code",
      "source": [
        "# CSV出力\n",
        "df_drone_data.to_csv('result1.csv', index=True, encoding='utf-8')"
      ],
      "metadata": {
        "id": "d0SOcQFh9iaY"
      },
      "execution_count": null,
      "outputs": []
    },
    {
      "cell_type": "code",
      "source": [
        "#df_drone_data.to_csv('result10.csv', columns=['出願人/権利者', 'FI'])"
      ],
      "metadata": {
        "id": "S8MTjeeK_ak5"
      },
      "execution_count": null,
      "outputs": []
    },
    {
      "cell_type": "markdown",
      "source": [
        "エクスプロード処理"
      ],
      "metadata": {
        "id": "m7Doa-l4fctB"
      }
    },
    {
      "cell_type": "code",
      "source": [
        "# 'FI' を分割\n",
        "df_drone_data['FI'] = df_drone_data['FI'].str.split(',')\n",
        "# '出願人/権利者'を分割\n",
        "df_drone_data['出願人/権利者'] = df_drone_data['出願人/権利者'].str.split(',')\n",
        "# エクスプロード\n",
        "df_drone_data = df_drone_data.explode('FI').explode('出願人/権利者')\n",
        "# インデックスのリセット\n",
        "df_drone_data = df_drone_data.reset_index(drop=True)\n",
        "\n",
        "# 欠落データを削除?\n",
        "#df_drone_data = df_drone_data.dropna(how='any')\n",
        "df_drone_data = df_drone_data.replace(' ', None)\n",
        "df_drone_data = df_drone_data.replace('　', None)\n",
        "df_drone_data = df_drone_data.replace('', None)\n",
        "df_drone_data = df_drone_data.dropna(subset=['FI'])\n",
        "df_drone_data = df_drone_data.dropna(subset=['出願人/権利者'])\n",
        "##\n",
        "# エクスプロード処理の確認\n",
        "print(df_drone_data)\n",
        "# CSV出力\n",
        "df_drone_data.to_csv('result2.csv', index=True, encoding='utf-8')"
      ],
      "metadata": {
        "colab": {
          "base_uri": "https://localhost:8080/"
        },
        "id": "-kWj0Ehgfeit",
        "outputId": "abe60cfb-4ec2-4322-bd25-8e5a48aa9477"
      },
      "execution_count": null,
      "outputs": [
        {
          "output_type": "stream",
          "name": "stdout",
          "text": [
            "                                出願人/権利者             FI\n",
            "1                              株式会社レグシス      G06Q50/16\n",
            "2                              株式会社レグシス      G06Q20/24\n",
            "3                              株式会社レグシス      G06Q30/02\n",
            "4                              株式会社レグシス            140\n",
            "5                              株式会社レグシス              他\n",
            "...                                 ...            ...\n",
            "1801                          株式会社オービック      G06Q50/16\n",
            "1802                          株式会社オービック  300G06Q50/163\n",
            "1803  プロパー　ピーティーイー　リミテッド              他      G06Q50/16\n",
            "1804                 株式会社ドッドウエルビー・エム・エス    E05B19/00@E\n",
            "1805                         株式会社Ｆａｃｉｌｏ      G06Q50/16\n",
            "\n",
            "[1712 rows x 2 columns]\n"
          ]
        }
      ]
    },
    {
      "cell_type": "markdown",
      "source": [
        "クロス集計"
      ],
      "metadata": {
        "id": "m3jPhfrZflsU"
      }
    },
    {
      "cell_type": "code",
      "source": [
        "# クロス集計\n",
        "result1 = pd.crosstab(df_drone_data['出願人/権利者'],df_drone_data['FI'])\n",
        "print(result1)"
      ],
      "metadata": {
        "colab": {
          "base_uri": "https://localhost:8080/"
        },
        "id": "t3rQMAYjfrf6",
        "outputId": "7e50b3b7-9fe2-4588-fa63-2936f110ca83"
      },
      "execution_count": null,
      "outputs": [
        {
          "output_type": "stream",
          "name": "stdout",
          "text": [
            "FI                                           030G06T1/00  060他  100  \\\n",
            "出願人/権利者                                                               \n",
            "ちょう　永　善              他                                 0     0    0   \n",
            "ほっと保証株式会社                                              0     0    0   \n",
            "アイ・シンクレント株式会社                                          0     0    0   \n",
            "アクセンチュア　グローバル　ソリューションズ　リミテッド              他            0     0    0   \n",
            "アズビル株式会社              他                                0     0    0   \n",
            "...                                                  ...   ...  ...   \n",
            "Ｓｅｃｕｒｉｔｉｚｅ２４合同会社                                       0     0    0   \n",
            "Ｓｔｕｄｉｏ　ＬＯＣ合同会社                                         0     0    0   \n",
            "ＷｅａｌｔｈＰａｒｋ株式会社                                         0     0    0   \n",
            "ｂｏｏｏｓｔ　ｔｅｃｈｎｏｌｏｇｉｅｓ株式会社                                0     0    0   \n",
            "ｅ不動産株式会社                                               0     0    0   \n",
            "\n",
            "FI                                           100G06F13/00  \\\n",
            "出願人/権利者                                                     \n",
            "ちょう　永　善              他                                  0   \n",
            "ほっと保証株式会社                                               0   \n",
            "アイ・シンクレント株式会社                                           0   \n",
            "アクセンチュア　グローバル　ソリューションズ　リミテッド              他             0   \n",
            "アズビル株式会社              他                                 0   \n",
            "...                                                   ...   \n",
            "Ｓｅｃｕｒｉｔｉｚｅ２４合同会社                                        0   \n",
            "Ｓｔｕｄｉｏ　ＬＯＣ合同会社                                          0   \n",
            "ＷｅａｌｔｈＰａｒｋ株式会社                                          0   \n",
            "ｂｏｏｏｓｔ　ｔｅｃｈｎｏｌｏｇｉｅｓ株式会社                                 0   \n",
            "ｅ不動産株式会社                                                0   \n",
            "\n",
            "FI                                           100G06F16/907G06F3/0482他  \\\n",
            "出願人/権利者                                                                 \n",
            "ちょう　永　善              他                                              0   \n",
            "ほっと保証株式会社                                                           0   \n",
            "アイ・シンクレント株式会社                                                       0   \n",
            "アクセンチュア　グローバル　ソリューションズ　リミテッド              他                         0   \n",
            "アズビル株式会社              他                                             0   \n",
            "...                                                               ...   \n",
            "Ｓｅｃｕｒｉｔｉｚｅ２４合同会社                                                    0   \n",
            "Ｓｔｕｄｉｏ　ＬＯＣ合同会社                                                      0   \n",
            "ＷｅａｌｔｈＰａｒｋ株式会社                                                      0   \n",
            "ｂｏｏｏｓｔ　ｔｅｃｈｎｏｌｏｇｉｅｓ株式会社                                             0   \n",
            "ｅ不動産株式会社                                                            0   \n",
            "\n",
            "FI                                           100G06Q20/10  100G06Q30/06  \\\n",
            "出願人/権利者                                                                   \n",
            "ちょう　永　善              他                                  0             0   \n",
            "ほっと保証株式会社                                               0             0   \n",
            "アイ・シンクレント株式会社                                           0             0   \n",
            "アクセンチュア　グローバル　ソリューションズ　リミテッド              他             0             0   \n",
            "アズビル株式会社              他                                 0             0   \n",
            "...                                                   ...           ...   \n",
            "Ｓｅｃｕｒｉｔｉｚｅ２４合同会社                                        0             0   \n",
            "Ｓｔｕｄｉｏ　ＬＯＣ合同会社                                          0             0   \n",
            "ＷｅａｌｔｈＰａｒｋ株式会社                                          0             0   \n",
            "ｂｏｏｏｓｔ　ｔｅｃｈｎｏｌｏｇｉｅｓ株式会社                                 0             0   \n",
            "ｅ不動産株式会社                                                0             0   \n",
            "\n",
            "FI                                           100G06Q40/02  \\\n",
            "出願人/権利者                                                     \n",
            "ちょう　永　善              他                                  0   \n",
            "ほっと保証株式会社                                               0   \n",
            "アイ・シンクレント株式会社                                           0   \n",
            "アクセンチュア　グローバル　ソリューションズ　リミテッド              他             0   \n",
            "アズビル株式会社              他                                 0   \n",
            "...                                                   ...   \n",
            "Ｓｅｃｕｒｉｔｉｚｅ２４合同会社                                        0   \n",
            "Ｓｔｕｄｉｏ　ＬＯＣ合同会社                                          0   \n",
            "ＷｅａｌｔｈＰａｒｋ株式会社                                          0   \n",
            "ｂｏｏｏｓｔ　ｔｅｃｈｎｏｌｏｇｉｅｓ株式会社                                 0   \n",
            "ｅ不動産株式会社                                                0   \n",
            "\n",
            "FI                                           100G06Q40/08G06Q50/16  \\\n",
            "出願人/権利者                                                              \n",
            "ちょう　永　善              他                                           0   \n",
            "ほっと保証株式会社                                                        0   \n",
            "アイ・シンクレント株式会社                                                    0   \n",
            "アクセンチュア　グローバル　ソリューションズ　リミテッド              他                      0   \n",
            "アズビル株式会社              他                                          0   \n",
            "...                                                            ...   \n",
            "Ｓｅｃｕｒｉｔｉｚｅ２４合同会社                                                 0   \n",
            "Ｓｔｕｄｉｏ　ＬＯＣ合同会社                                                   0   \n",
            "ＷｅａｌｔｈＰａｒｋ株式会社                                                   0   \n",
            "ｂｏｏｏｓｔ　ｔｅｃｈｎｏｌｏｇｉｅｓ株式会社                                          0   \n",
            "ｅ不動産株式会社                                                         0   \n",
            "\n",
            "FI                                           100G06Q50/16  ...  \\\n",
            "出願人/権利者                                                    ...   \n",
            "ちょう　永　善              他                                  0  ...   \n",
            "ほっと保証株式会社                                               0  ...   \n",
            "アイ・シンクレント株式会社                                           0  ...   \n",
            "アクセンチュア　グローバル　ソリューションズ　リミテッド              他             0  ...   \n",
            "アズビル株式会社              他                                 0  ...   \n",
            "...                                                   ...  ...   \n",
            "Ｓｅｃｕｒｉｔｉｚｅ２４合同会社                                        0  ...   \n",
            "Ｓｔｕｄｉｏ　ＬＯＣ合同会社                                          0  ...   \n",
            "ＷｅａｌｔｈＰａｒｋ株式会社                                          0  ...   \n",
            "ｂｏｏｏｓｔ　ｔｅｃｈｎｏｌｏｇｉｅｓ株式会社                                 0  ...   \n",
            "ｅ不動産株式会社                                                0  ...   \n",
            "\n",
            "FI                                           H04N1/387H04N1/00@CH04N1/387  \\\n",
            "出願人/権利者                                                                     \n",
            "ちょう　永　善              他                                                  0   \n",
            "ほっと保証株式会社                                                               0   \n",
            "アイ・シンクレント株式会社                                                           0   \n",
            "アクセンチュア　グローバル　ソリューションズ　リミテッド              他                             0   \n",
            "アズビル株式会社              他                                                 0   \n",
            "...                                                                   ...   \n",
            "Ｓｅｃｕｒｉｔｉｚｅ２４合同会社                                                        0   \n",
            "Ｓｔｕｄｉｏ　ＬＯＣ合同会社                                                          0   \n",
            "ＷｅａｌｔｈＰａｒｋ株式会社                                                          0   \n",
            "ｂｏｏｏｓｔ　ｔｅｃｈｎｏｌｏｇｉｅｓ株式会社                                                 0   \n",
            "ｅ不動産株式会社                                                                0   \n",
            "\n",
            "FI                                           H04N5/232  \\\n",
            "出願人/権利者                                                  \n",
            "ちょう　永　善              他                               0   \n",
            "ほっと保証株式会社                                            0   \n",
            "アイ・シンクレント株式会社                                        0   \n",
            "アクセンチュア　グローバル　ソリューションズ　リミテッド              他          0   \n",
            "アズビル株式会社              他                              0   \n",
            "...                                                ...   \n",
            "Ｓｅｃｕｒｉｔｉｚｅ２４合同会社                                     0   \n",
            "Ｓｔｕｄｉｏ　ＬＯＣ合同会社                                       0   \n",
            "ＷｅａｌｔｈＰａｒｋ株式会社                                       0   \n",
            "ｂｏｏｏｓｔ　ｔｅｃｈｎｏｌｏｇｉｅｓ株式会社                              0   \n",
            "ｅ不動産株式会社                                             0   \n",
            "\n",
            "FI                                           H04N7/15H04N7/18@UG06Q10/10  \\\n",
            "出願人/権利者                                                                    \n",
            "ちょう　永　善              他                                                 0   \n",
            "ほっと保証株式会社                                                              0   \n",
            "アイ・シンクレント株式会社                                                          0   \n",
            "アクセンチュア　グローバル　ソリューションズ　リミテッド              他                            0   \n",
            "アズビル株式会社              他                                                0   \n",
            "...                                                                  ...   \n",
            "Ｓｅｃｕｒｉｔｉｚｅ２４合同会社                                                       0   \n",
            "Ｓｔｕｄｉｏ　ＬＯＣ合同会社                                                         0   \n",
            "ＷｅａｌｔｈＰａｒｋ株式会社                                                         0   \n",
            "ｂｏｏｏｓｔ　ｔｅｃｈｎｏｌｏｇｉｅｓ株式会社                                                0   \n",
            "ｅ不動産株式会社                                                               0   \n",
            "\n",
            "FI                                           H04N7/18@D  \\\n",
            "出願人/権利者                                                   \n",
            "ちょう　永　善              他                                0   \n",
            "ほっと保証株式会社                                             0   \n",
            "アイ・シンクレント株式会社                                         0   \n",
            "アクセンチュア　グローバル　ソリューションズ　リミテッド              他           0   \n",
            "アズビル株式会社              他                               0   \n",
            "...                                                 ...   \n",
            "Ｓｅｃｕｒｉｔｉｚｅ２４合同会社                                      0   \n",
            "Ｓｔｕｄｉｏ　ＬＯＣ合同会社                                        0   \n",
            "ＷｅａｌｔｈＰａｒｋ株式会社                                        0   \n",
            "ｂｏｏｏｓｔ　ｔｅｃｈｎｏｌｏｇｉｅｓ株式会社                               0   \n",
            "ｅ不動産株式会社                                              0   \n",
            "\n",
            "FI                                           H04N7/18@DH04N5/91@KG08B25/00  \\\n",
            "出願人/権利者                                                                      \n",
            "ちょう　永　善              他                                                   0   \n",
            "ほっと保証株式会社                                                                0   \n",
            "アイ・シンクレント株式会社                                                            0   \n",
            "アクセンチュア　グローバル　ソリューションズ　リミテッド              他                              0   \n",
            "アズビル株式会社              他                                                  0   \n",
            "...                                                                    ...   \n",
            "Ｓｅｃｕｒｉｔｉｚｅ２４合同会社                                                         0   \n",
            "Ｓｔｕｄｉｏ　ＬＯＣ合同会社                                                           0   \n",
            "ＷｅａｌｔｈＰａｒｋ株式会社                                                           0   \n",
            "ｂｏｏｏｓｔ　ｔｅｃｈｎｏｌｏｇｉｅｓ株式会社                                                  0   \n",
            "ｅ不動産株式会社                                                                 0   \n",
            "\n",
            "FI                                           H04N7/18@DH04N5/91@KH04N7/18@U他  \\\n",
            "出願人/権利者                                                                        \n",
            "ちょう　永　善              他                                                     0   \n",
            "ほっと保証株式会社                                                                  0   \n",
            "アイ・シンクレント株式会社                                                              0   \n",
            "アクセンチュア　グローバル　ソリューションズ　リミテッド              他                                0   \n",
            "アズビル株式会社              他                                                    0   \n",
            "...                                                                      ...   \n",
            "Ｓｅｃｕｒｉｔｉｚｅ２４合同会社                                                           0   \n",
            "Ｓｔｕｄｉｏ　ＬＯＣ合同会社                                                             0   \n",
            "ＷｅａｌｔｈＰａｒｋ株式会社                                                             0   \n",
            "ｂｏｏｏｓｔ　ｔｅｃｈｎｏｌｏｇｉｅｓ株式会社                                                    0   \n",
            "ｅ不動産株式会社                                                                   0   \n",
            "\n",
            "FI                                           H04N7/18@UH04N5/225  \\\n",
            "出願人/権利者                                                            \n",
            "ちょう　永　善              他                                         0   \n",
            "ほっと保証株式会社                                                      0   \n",
            "アイ・シンクレント株式会社                                                  0   \n",
            "アクセンチュア　グローバル　ソリューションズ　リミテッド              他                    0   \n",
            "アズビル株式会社              他                                        0   \n",
            "...                                                          ...   \n",
            "Ｓｅｃｕｒｉｔｉｚｅ２４合同会社                                               0   \n",
            "Ｓｔｕｄｉｏ　ＬＯＣ合同会社                                                 0   \n",
            "ＷｅａｌｔｈＰａｒｋ株式会社                                                 0   \n",
            "ｂｏｏｏｓｔ　ｔｅｃｈｎｏｌｏｇｉｅｓ株式会社                                        0   \n",
            "ｅ不動産株式会社                                                       0   \n",
            "\n",
            "FI                                           H04W16/20H04W84/12  \\\n",
            "出願人/権利者                                                           \n",
            "ちょう　永　善              他                                        0   \n",
            "ほっと保証株式会社                                                     0   \n",
            "アイ・シンクレント株式会社                                                 0   \n",
            "アクセンチュア　グローバル　ソリューションズ　リミテッド              他                   0   \n",
            "アズビル株式会社              他                                       0   \n",
            "...                                                         ...   \n",
            "Ｓｅｃｕｒｉｔｉｚｅ２４合同会社                                              0   \n",
            "Ｓｔｕｄｉｏ　ＬＯＣ合同会社                                                0   \n",
            "ＷｅａｌｔｈＰａｒｋ株式会社                                                0   \n",
            "ｂｏｏｏｓｔ　ｔｅｃｈｎｏｌｏｇｉｅｓ株式会社                                       0   \n",
            "ｅ不動産株式会社                                                      0   \n",
            "\n",
            "FI                                           H04W4/029G06F13/00  他  \n",
            "出願人/権利者                                                             \n",
            "ちょう　永　善              他                                        0  0  \n",
            "ほっと保証株式会社                                                     0  0  \n",
            "アイ・シンクレント株式会社                                                 0  0  \n",
            "アクセンチュア　グローバル　ソリューションズ　リミテッド              他                   0  0  \n",
            "アズビル株式会社              他                                       0  0  \n",
            "...                                                         ... ..  \n",
            "Ｓｅｃｕｒｉｔｉｚｅ２４合同会社                                              0  0  \n",
            "Ｓｔｕｄｉｏ　ＬＯＣ合同会社                                                0  0  \n",
            "ＷｅａｌｔｈＰａｒｋ株式会社                                                0  0  \n",
            "ｂｏｏｏｓｔ　ｔｅｃｈｎｏｌｏｇｉｅｓ株式会社                                       0  0  \n",
            "ｅ不動産株式会社                                                      0  0  \n",
            "\n",
            "[471 rows x 706 columns]\n"
          ]
        }
      ]
    },
    {
      "cell_type": "code",
      "source": [
        "# CSV出力\n",
        "result1.to_csv('result3.csv', index=True, encoding='utf-8')"
      ],
      "metadata": {
        "id": "uvTAvuIK9nHm"
      },
      "execution_count": null,
      "outputs": []
    },
    {
      "cell_type": "markdown",
      "source": [
        "top20に限定したクロス集計表の作成"
      ],
      "metadata": {
        "id": "vEH9HO69fzYu"
      }
    },
    {
      "cell_type": "code",
      "source": [
        "# FIのカウント\n",
        "fi_counts = df_drone_data['FI'].value_counts()\n",
        "# FIをtop10で並べ替え\n",
        "top_fi = fi_counts.sort_values(ascending=False).index[:20].tolist()\n",
        "# 出願人/権利者のカウント\n",
        "person_counts = df_drone_data['出願人/権利者'].value_counts()\n",
        "# 出願人/権利者をtop10で並べ替え\n",
        "top_person = person_counts.sort_values(ascending=False).index[:20].tolist()\n",
        "# top10の FIと出願人でクロス集計\n",
        "result2 = pd.crosstab(df_drone_data[df_drone_data['出願人/権利者'].isin(top_person)]['出願人/権利者'], df_drone_data[df_drone_data['FI'].isin(top_fi)]['FI'])\n",
        "print(result2)\n",
        "# CSV出力\n",
        "result2.to_csv('result4.csv', index=True, encoding='utf-8')"
      ],
      "metadata": {
        "colab": {
          "base_uri": "https://localhost:8080/"
        },
        "id": "UmDahV7ffx3Y",
        "outputId": "9ddc2f2e-3154-46b1-f77b-6eb10d04f7f5"
      },
      "execution_count": null,
      "outputs": [
        {
          "output_type": "stream",
          "name": "stdout",
          "text": [
            "FI                  300  300G06Q50/163  300他  320  G06F13/00  G06F17/30  \\\n",
            "出願人/権利者                                                                   \n",
            "ソニー株式会社               0              0     0    0          0          0   \n",
            "パナソニックＩＰマネジメント株式会社    0              0     0    0          0          4   \n",
            "ヤフー株式会社               0              0     1    1          3          2   \n",
            "嘉陽　美幸                 0              0     0    0          0          0   \n",
            "富士通株式会社               0              1     0    0          0          4   \n",
            "株式会社オーガスタス            0              0     0    0          0          0   \n",
            "株式会社オービック             0             10     0    2          0          0   \n",
            "株式会社パークランド            0              0     0    0          0          0   \n",
            "株式会社ボルテックス            0              1     0    0          0          0   \n",
            "株式会社リコー               0              0     1    0          3          0   \n",
            "株式会社創建                0              0     0    0          0          1   \n",
            "株式会社ＪＯＮ               0              1     1    3          0          0   \n",
            "株式会社ＬＩＦＵＬＬ            0              1     0    0          0          1   \n",
            "横田　幸一                 0              2     0    0          0          5   \n",
            "ＡＳＳＥＳＴ株式会社            0              0     0    0          0          0   \n",
            "ＫＤＤＩ株式会社              0              1     0    0          0          0   \n",
            "ＳＢＩモーゲージ株式会社          1              0     0    0          0          0   \n",
            "\n",
            "FI                  G06Q30/02  G06Q30/06  G06Q40/00  G06Q40/02  G06Q40/06  \\\n",
            "出願人/権利者                                                                     \n",
            "ソニー株式会社                     0          0          0          0          0   \n",
            "パナソニックＩＰマネジメント株式会社          2          0          0          0          0   \n",
            "ヤフー株式会社                     5          1          0          0          0   \n",
            "嘉陽　美幸                       0          0          0          0          2   \n",
            "富士通株式会社                     0          0          0          0          0   \n",
            "株式会社オーガスタス                  0          1          0          0          0   \n",
            "株式会社オービック                   0          0         11          3          1   \n",
            "株式会社パークランド                  0          8          0          0          0   \n",
            "株式会社ボルテックス                  0          0          1          0          2   \n",
            "株式会社リコー                     0          0          0          0          0   \n",
            "株式会社創建                      0          0          0          0          0   \n",
            "株式会社ＪＯＮ                     0          0          0          0          0   \n",
            "株式会社ＬＩＦＵＬＬ                  2          0          0          0          0   \n",
            "横田　幸一                       0          0          0          0          0   \n",
            "ＡＳＳＥＳＴ株式会社                  0          0          0          5          0   \n",
            "ＫＤＤＩ株式会社                    3          0          0          0          0   \n",
            "ＳＢＩモーゲージ株式会社                0          1          0          5          0   \n",
            "\n",
            "FI                  G06Q50/10  G06Q50/16  G06Q50/16G06Q30/02  \\\n",
            "出願人/権利者                                                        \n",
            "ソニー株式会社                     0          5                   1   \n",
            "パナソニックＩＰマネジメント株式会社          0          0                   0   \n",
            "ヤフー株式会社                     1          3                   1   \n",
            "嘉陽　美幸                       1          1                   0   \n",
            "富士通株式会社                     1          2                   0   \n",
            "株式会社オーガスタス                  1          0                   0   \n",
            "株式会社オービック                   0         23                   0   \n",
            "株式会社パークランド                  0          0                   0   \n",
            "株式会社ボルテックス                  2          4                   0   \n",
            "株式会社リコー                     0          2                   0   \n",
            "株式会社創建                      0          1                   0   \n",
            "株式会社ＪＯＮ                     0         10                   0   \n",
            "株式会社ＬＩＦＵＬＬ                  0          4                   2   \n",
            "横田　幸一                       0         10                   1   \n",
            "ＡＳＳＥＳＴ株式会社                  1          3                   0   \n",
            "ＫＤＤＩ株式会社                    0          0                   0   \n",
            "ＳＢＩモーゲージ株式会社                0          2                   0   \n",
            "\n",
            "FI                  G06Q50/16G06Q30/06  G06Q50/16G06Q50/16  G06Q50/26  他  \n",
            "出願人/権利者                                                                   \n",
            "ソニー株式会社                              0                   0          0  0  \n",
            "パナソニックＩＰマネジメント株式会社                   0                   0          0  0  \n",
            "ヤフー株式会社                              1                   0          0  1  \n",
            "嘉陽　美幸                                0                   0          8  0  \n",
            "富士通株式会社                              0                   1          0  2  \n",
            "株式会社オーガスタス                           0                   0          0  0  \n",
            "株式会社オービック                            1                   0          0  0  \n",
            "株式会社パークランド                           0                   0          0  0  \n",
            "株式会社ボルテックス                           0                   0          0  1  \n",
            "株式会社リコー                              0                   0          0  0  \n",
            "株式会社創建                               0                   0          0  0  \n",
            "株式会社ＪＯＮ                              0                   0          1  1  \n",
            "株式会社ＬＩＦＵＬＬ                           0                   0          0  0  \n",
            "横田　幸一                                1                   1          0  0  \n",
            "ＡＳＳＥＳＴ株式会社                           0                   0          0  0  \n",
            "ＫＤＤＩ株式会社                             0                   0          0  0  \n",
            "ＳＢＩモーゲージ株式会社                         0                   0          0  2  \n"
          ]
        }
      ]
    },
    {
      "cell_type": "markdown",
      "source": [],
      "metadata": {
        "id": "DO8qMoPyfXzw"
      }
    },
    {
      "cell_type": "markdown",
      "source": [
        "Pythonでバブルチャートを書いてみる\n",
        "@ip_design(Kawakami Naritoshi)\n",
        "最終更新日 2023年02月13日\n",
        "投稿日 2023年02月13日\n",
        "https://qiita.com/ip_design/items/fc54eaf3e36bd50f12bb\n"
      ],
      "metadata": {
        "id": "2ux6dyx2eH34"
      }
    },
    {
      "cell_type": "markdown",
      "source": [
        "データの前処理\n",
        "\n",
        "---\n",
        "\n"
      ],
      "metadata": {
        "id": "lsEk0Ujnh_uh"
      }
    },
    {
      "cell_type": "code",
      "source": [
        "! pip install japanize-matplotlib\n",
        "import pandas as pd\n",
        "import matplotlib.pyplot as plt\n",
        "import numpy as np\n",
        "import matplotlib.cm as cm\n",
        "import japanize_matplotlib\n",
        "# googleドライブの利用\n",
        "#from google.colab import drive\n",
        "#drive.mount('/content/drive')"
      ],
      "metadata": {
        "colab": {
          "base_uri": "https://localhost:8080/"
        },
        "id": "ncgbgTCAiPDq",
        "outputId": "3caa41d8-e912-4cf2-acd4-2adafdcf010b"
      },
      "execution_count": null,
      "outputs": [
        {
          "output_type": "stream",
          "name": "stdout",
          "text": [
            "Collecting japanize-matplotlib\n",
            "  Downloading japanize-matplotlib-1.1.3.tar.gz (4.1 MB)\n",
            "\u001b[2K     \u001b[90m━━━━━━━━━━━━━━━━━━━━━━━━━━━━━━━━━━━━━━━━\u001b[0m \u001b[32m4.1/4.1 MB\u001b[0m \u001b[31m21.0 MB/s\u001b[0m eta \u001b[36m0:00:00\u001b[0m\n",
            "\u001b[?25h  Preparing metadata (setup.py) ... \u001b[?25l\u001b[?25hdone\n",
            "Requirement already satisfied: matplotlib in /usr/local/lib/python3.10/dist-packages (from japanize-matplotlib) (3.7.1)\n",
            "Requirement already satisfied: contourpy>=1.0.1 in /usr/local/lib/python3.10/dist-packages (from matplotlib->japanize-matplotlib) (1.2.0)\n",
            "Requirement already satisfied: cycler>=0.10 in /usr/local/lib/python3.10/dist-packages (from matplotlib->japanize-matplotlib) (0.12.1)\n",
            "Requirement already satisfied: fonttools>=4.22.0 in /usr/local/lib/python3.10/dist-packages (from matplotlib->japanize-matplotlib) (4.48.1)\n",
            "Requirement already satisfied: kiwisolver>=1.0.1 in /usr/local/lib/python3.10/dist-packages (from matplotlib->japanize-matplotlib) (1.4.5)\n",
            "Requirement already satisfied: numpy>=1.20 in /usr/local/lib/python3.10/dist-packages (from matplotlib->japanize-matplotlib) (1.23.5)\n",
            "Requirement already satisfied: packaging>=20.0 in /usr/local/lib/python3.10/dist-packages (from matplotlib->japanize-matplotlib) (23.2)\n",
            "Requirement already satisfied: pillow>=6.2.0 in /usr/local/lib/python3.10/dist-packages (from matplotlib->japanize-matplotlib) (9.4.0)\n",
            "Requirement already satisfied: pyparsing>=2.3.1 in /usr/local/lib/python3.10/dist-packages (from matplotlib->japanize-matplotlib) (3.1.1)\n",
            "Requirement already satisfied: python-dateutil>=2.7 in /usr/local/lib/python3.10/dist-packages (from matplotlib->japanize-matplotlib) (2.8.2)\n",
            "Requirement already satisfied: six>=1.5 in /usr/local/lib/python3.10/dist-packages (from python-dateutil>=2.7->matplotlib->japanize-matplotlib) (1.16.0)\n",
            "Building wheels for collected packages: japanize-matplotlib\n",
            "  Building wheel for japanize-matplotlib (setup.py) ... \u001b[?25l\u001b[?25hdone\n",
            "  Created wheel for japanize-matplotlib: filename=japanize_matplotlib-1.1.3-py3-none-any.whl size=4120257 sha256=1d22b2605340d35049d98efe3e124a91b2b06f5eb443c13bf88be1c1822679d7\n",
            "  Stored in directory: /root/.cache/pip/wheels/61/7a/6b/df1f79be9c59862525070e157e62b08eab8ece27c1b68fbb94\n",
            "Successfully built japanize-matplotlib\n",
            "Installing collected packages: japanize-matplotlib\n",
            "Successfully installed japanize-matplotlib-1.1.3\n"
          ]
        }
      ]
    },
    {
      "cell_type": "code",
      "execution_count": null,
      "metadata": {
        "id": "ZmF2pxfceDcR",
        "colab": {
          "base_uri": "https://localhost:8080/"
        },
        "outputId": "1716e7cd-02ad-42ce-aad2-87c90da46d96"
      },
      "outputs": [
        {
          "output_type": "stream",
          "name": "stdout",
          "text": [
            "                               出願人/権利者  \\\n",
            "0                             株式会社レグシス   \n",
            "1                              株式会社ＪＯＮ   \n",
            "2                            株式会社カタルシス   \n",
            "3                     三井不動産レジデンシャル株式会社   \n",
            "4                     三井不動産レジデンシャル株式会社   \n",
            "..                                 ...   \n",
            "909                   Ｓｅｃｕｒｉｔｉｚｅ２４合同会社   \n",
            "910                          株式会社オービック   \n",
            "911  プロパー　ピーティーイー　リミテッド              他   \n",
            "912                 株式会社ドッドウエルビー・エム・エス   \n",
            "913                         株式会社Ｆａｃｉｌｏ   \n",
            "\n",
            "                                            FI  \n",
            "0        ,G06Q50/16,G06Q20/24,G06Q30/02,140,他,  \n",
            "1                        ,G06Q50/16,G06Q50/26,  \n",
            "2    ,G06Q30/06,130,G06Q50/16,G06Q30/06,300,他,  \n",
            "3        ,A47B81/00@E,A47B87/00,A47B97/00@J,他,  \n",
            "4                 ,A47B81/00@E,E04B2/74,541@C,  \n",
            "..                                         ...  \n",
            "909                     G06Q50/16G06Q20/38,310  \n",
            "910                    G06Q50/16,300G06Q50/163  \n",
            "911                                  G06Q50/16  \n",
            "912                                E05B19/00@E  \n",
            "913                                  G06Q50/16  \n",
            "\n",
            "[914 rows x 2 columns]\n"
          ]
        }
      ],
      "source": [
        "# データの前処理\n",
        "# データの読み込み(google ドライブから)\n",
        "df_drone_data_0 = pd.read_csv(\"/content/drive/MyDrive/patent4/J-PlatPat2015.csv\")\n",
        "df_drone_data_1 = pd.read_csv(\"/content/drive/MyDrive/patent4/J-PlatPat2016.csv\")\n",
        "df_drone_data_2 = pd.read_csv(\"/content/drive/MyDrive/patent4/J-PlatPat2017.csv\")\n",
        "df_drone_data_3 = pd.read_csv(\"/content/drive/MyDrive/patent4/J-PlatPat2018.csv\")\n",
        "df_drone_data_4 = pd.read_csv(\"/content/drive/MyDrive/patent4/J-PlatPat2019.csv\")\n",
        "df_drone_data_5 = pd.read_csv(\"/content/drive/MyDrive/patent4/J-PlatPat2020.csv\")\n",
        "df_drone_data_6 = pd.read_csv(\"/content/drive/MyDrive/patent4/J-PlatPat2021.csv\")\n",
        "df_drone_data_7 = pd.read_csv(\"/content/drive/MyDrive/patent4/J-PlatPat2022.csv\")\n",
        "df_drone_data_8 = pd.read_csv(\"/content/drive/MyDrive/patent4/J-PlatPat2023.csv\")\n",
        "df_drone_data_9 = pd.read_csv(\"/content/drive/MyDrive/patent4/J-PlatPat2024.csv\")\n",
        "#df_drone_data = pd.read_csv(\"/content/drive/MyDrive/patent2/特実_国内文献.csv\")\n",
        "#df_drone_data_2 = pd.read_csv(\"/content/drive/MyDrive/pat_data_drone.20190101.csv\", encoding = \"shift-jis\")\n",
        "# データフレームの結合（縦方向）\n",
        "#df_drone_data = pd.concat([df_drone_data_1, df_drone_data_2], ignore_index = True)\n",
        "df_drone_data = pd.concat([df_drone_data_0, df_drone_data_1, df_drone_data_2, df_drone_data_3, df_drone_data_4, df_drone_data_5, df_drone_data_6, df_drone_data_7, df_drone_data_8, df_drone_data_9], ignore_index = True)\n",
        "#必要な列のみ抽出\n",
        "df_drone_data = df_drone_data[['出願人/権利者', 'FI']]\n",
        "#不要語の削除（出願人/権利者）\n",
        "df_drone_data['出願人/権利者'] = df_drone_data['出願人/権利者'].str.replace('▲', '')\n",
        "df_drone_data['出願人/権利者'] = df_drone_data['出願人/権利者'].str.replace('▼', '')\n",
        "# 欠落データを削除\n",
        "df_drone_data = df_drone_data.dropna(axis=0)\n",
        "\n",
        "# エクスプロード処理の確認\n",
        "print(df_drone_data)\n",
        "# CSV出力\n",
        "df_drone_data.to_csv('result5.csv', index=True, encoding='utf-8')\n"
      ]
    },
    {
      "cell_type": "markdown",
      "source": [
        "エクスプロード処理"
      ],
      "metadata": {
        "id": "TD2d87Kj_tLO"
      }
    },
    {
      "cell_type": "code",
      "source": [
        "# 'FI' を分割\n",
        "df_drone_data['FI'] = df_drone_data['FI'].str.split(',')\n",
        "# '出願人/権利者'を分割\n",
        "df_drone_data['出願人/権利者'] = df_drone_data['出願人/権利者'].str.split(',')\n",
        "# エクスプロード\n",
        "df_drone_data = df_drone_data.explode('FI').explode('出願人/権利者')\n",
        "# インデックスのリセット\n",
        "df_drone_data = df_drone_data.reset_index(drop=True)\n",
        "\n",
        "# 欠落データを削除?\n",
        "#df_drone_data = df_drone_data.dropna(how='any')\n",
        "df_drone_data = df_drone_data.replace(' ', None)\n",
        "df_drone_data = df_drone_data.replace('　', None)\n",
        "df_drone_data = df_drone_data.replace('', None)\n",
        "df_drone_data = df_drone_data.dropna(subset=['FI'])\n"
      ],
      "metadata": {
        "id": "eHdHnIQIxezd"
      },
      "execution_count": null,
      "outputs": []
    },
    {
      "cell_type": "code",
      "source": [
        "# FIのカウント\n",
        "fi_counts = df_drone_data['FI'].value_counts()\n",
        "# FIをtop20で並べ替え\n",
        "top_fi = fi_counts.sort_values(ascending=False).index[:20].tolist()\n",
        "# 出願人/権利者のカウント\n",
        "person_counts = df_drone_data['出願人/権利者'].value_counts()\n",
        "# 出願人/権利者をtop20で並べ替え\n",
        "top_person = person_counts.sort_values(ascending=False).index[:20].tolist()\n",
        "# データフレームdf_drone_dataから「出願人/権利者」列と「FI」列をtop20のみ含むようにフィルタリング\n",
        "df_drone_data['出願人/権利者'] =df_drone_data [df_drone_data['出願人/権利者'].isin(top_person)]['出願人/権利者']\n",
        "df_drone_data['FI'] =df_drone_data[df_drone_data['FI'].isin(top_fi)]['FI']\n",
        "\n",
        "print(result2)\n",
        "# CSV出力\n",
        "result2.to_csv('result6.csv', index=True, encoding='utf-8')"
      ],
      "metadata": {
        "colab": {
          "base_uri": "https://localhost:8080/"
        },
        "id": "_1MBEVi3xT2l",
        "outputId": "5170f101-c3a5-4f5c-f2d9-151946f78fb7"
      },
      "execution_count": null,
      "outputs": [
        {
          "output_type": "stream",
          "name": "stdout",
          "text": [
            "FI                  300  300G06Q50/163  300他  320  G06F13/00  G06F17/30  \\\n",
            "出願人/権利者                                                                   \n",
            "ソニー株式会社               0              0     0    0          0          0   \n",
            "パナソニックＩＰマネジメント株式会社    0              0     0    0          0          4   \n",
            "ヤフー株式会社               0              0     1    1          3          2   \n",
            "嘉陽　美幸                 0              0     0    0          0          0   \n",
            "富士通株式会社               0              1     0    0          0          4   \n",
            "株式会社オーガスタス            0              0     0    0          0          0   \n",
            "株式会社オービック             0             10     0    2          0          0   \n",
            "株式会社パークランド            0              0     0    0          0          0   \n",
            "株式会社ボルテックス            0              1     0    0          0          0   \n",
            "株式会社リコー               0              0     1    0          3          0   \n",
            "株式会社創建                0              0     0    0          0          1   \n",
            "株式会社ＪＯＮ               0              1     1    3          0          0   \n",
            "株式会社ＬＩＦＵＬＬ            0              1     0    0          0          1   \n",
            "横田　幸一                 0              2     0    0          0          5   \n",
            "ＡＳＳＥＳＴ株式会社            0              0     0    0          0          0   \n",
            "ＫＤＤＩ株式会社              0              1     0    0          0          0   \n",
            "ＳＢＩモーゲージ株式会社          1              0     0    0          0          0   \n",
            "\n",
            "FI                  G06Q30/02  G06Q30/06  G06Q40/00  G06Q40/02  G06Q40/06  \\\n",
            "出願人/権利者                                                                     \n",
            "ソニー株式会社                     0          0          0          0          0   \n",
            "パナソニックＩＰマネジメント株式会社          2          0          0          0          0   \n",
            "ヤフー株式会社                     5          1          0          0          0   \n",
            "嘉陽　美幸                       0          0          0          0          2   \n",
            "富士通株式会社                     0          0          0          0          0   \n",
            "株式会社オーガスタス                  0          1          0          0          0   \n",
            "株式会社オービック                   0          0         11          3          1   \n",
            "株式会社パークランド                  0          8          0          0          0   \n",
            "株式会社ボルテックス                  0          0          1          0          2   \n",
            "株式会社リコー                     0          0          0          0          0   \n",
            "株式会社創建                      0          0          0          0          0   \n",
            "株式会社ＪＯＮ                     0          0          0          0          0   \n",
            "株式会社ＬＩＦＵＬＬ                  2          0          0          0          0   \n",
            "横田　幸一                       0          0          0          0          0   \n",
            "ＡＳＳＥＳＴ株式会社                  0          0          0          5          0   \n",
            "ＫＤＤＩ株式会社                    3          0          0          0          0   \n",
            "ＳＢＩモーゲージ株式会社                0          1          0          5          0   \n",
            "\n",
            "FI                  G06Q50/10  G06Q50/16  G06Q50/16G06Q30/02  \\\n",
            "出願人/権利者                                                        \n",
            "ソニー株式会社                     0          5                   1   \n",
            "パナソニックＩＰマネジメント株式会社          0          0                   0   \n",
            "ヤフー株式会社                     1          3                   1   \n",
            "嘉陽　美幸                       1          1                   0   \n",
            "富士通株式会社                     1          2                   0   \n",
            "株式会社オーガスタス                  1          0                   0   \n",
            "株式会社オービック                   0         23                   0   \n",
            "株式会社パークランド                  0          0                   0   \n",
            "株式会社ボルテックス                  2          4                   0   \n",
            "株式会社リコー                     0          2                   0   \n",
            "株式会社創建                      0          1                   0   \n",
            "株式会社ＪＯＮ                     0         10                   0   \n",
            "株式会社ＬＩＦＵＬＬ                  0          4                   2   \n",
            "横田　幸一                       0         10                   1   \n",
            "ＡＳＳＥＳＴ株式会社                  1          3                   0   \n",
            "ＫＤＤＩ株式会社                    0          0                   0   \n",
            "ＳＢＩモーゲージ株式会社                0          2                   0   \n",
            "\n",
            "FI                  G06Q50/16G06Q30/06  G06Q50/16G06Q50/16  G06Q50/26  他  \n",
            "出願人/権利者                                                                   \n",
            "ソニー株式会社                              0                   0          0  0  \n",
            "パナソニックＩＰマネジメント株式会社                   0                   0          0  0  \n",
            "ヤフー株式会社                              1                   0          0  1  \n",
            "嘉陽　美幸                                0                   0          8  0  \n",
            "富士通株式会社                              0                   1          0  2  \n",
            "株式会社オーガスタス                           0                   0          0  0  \n",
            "株式会社オービック                            1                   0          0  0  \n",
            "株式会社パークランド                           0                   0          0  0  \n",
            "株式会社ボルテックス                           0                   0          0  1  \n",
            "株式会社リコー                              0                   0          0  0  \n",
            "株式会社創建                               0                   0          0  0  \n",
            "株式会社ＪＯＮ                              0                   0          1  1  \n",
            "株式会社ＬＩＦＵＬＬ                           0                   0          0  0  \n",
            "横田　幸一                                1                   1          0  0  \n",
            "ＡＳＳＥＳＴ株式会社                           0                   0          0  0  \n",
            "ＫＤＤＩ株式会社                             0                   0          0  0  \n",
            "ＳＢＩモーゲージ株式会社                         0                   0          0  2  \n"
          ]
        }
      ]
    },
    {
      "cell_type": "markdown",
      "source": [
        "groupby処理\n",
        "「出願人/権利者」と「FI」の列でグループ化し、グループ内の要素数を数えます。"
      ],
      "metadata": {
        "id": "Jz9MU6KTia95"
      }
    },
    {
      "cell_type": "code",
      "source": [
        "#groupby処理\n",
        "# 「出願人/権利者」と「FI」の列でグループ化し、グループ内の要素数を数える\n",
        "result = df_drone_data.groupby(['出願人/権利者', 'FI']).size().reset_index(name='Counts')\n",
        "# 処理の確認\n",
        "print(result)"
      ],
      "metadata": {
        "colab": {
          "base_uri": "https://localhost:8080/"
        },
        "id": "UcChf73CiiDb",
        "outputId": "8016a6b3-00ce-4ad4-f6e3-cdb345a1d1fe"
      },
      "execution_count": null,
      "outputs": [
        {
          "output_type": "stream",
          "name": "stdout",
          "text": [
            "               出願人/権利者                  FI  Counts\n",
            "0              ソニー株式会社           G06Q50/16       5\n",
            "1              ソニー株式会社  G06Q50/16G06Q30/02       1\n",
            "2   パナソニックＩＰマネジメント株式会社           G06F17/30       4\n",
            "3   パナソニックＩＰマネジメント株式会社           G06Q30/02       2\n",
            "4              ヤフー株式会社                300他       1\n",
            "..                 ...                 ...     ...\n",
            "68        ＳＢＩモーゲージ株式会社                 300       1\n",
            "69        ＳＢＩモーゲージ株式会社           G06Q30/06       1\n",
            "70        ＳＢＩモーゲージ株式会社           G06Q40/02       5\n",
            "71        ＳＢＩモーゲージ株式会社           G06Q50/16       2\n",
            "72        ＳＢＩモーゲージ株式会社                   他       2\n",
            "\n",
            "[73 rows x 3 columns]\n"
          ]
        }
      ]
    },
    {
      "cell_type": "code",
      "source": [
        "# CSV出力\n",
        "result.to_csv('result7.csv', index=True, encoding='utf-8')"
      ],
      "metadata": {
        "id": "kX5r63go8bRA"
      },
      "execution_count": null,
      "outputs": []
    },
    {
      "cell_type": "markdown",
      "source": [
        "散布図作成\n",
        "散布図をmatplotlibで描画します。バブルの大きさのみでは差異がわかりにくいと思いましたので、バブルごとにカウント数を表示する処理も行いました。"
      ],
      "metadata": {
        "id": "6f-HlBxcilot"
      }
    },
    {
      "cell_type": "code",
      "source": [
        "# 「出願人/権利者」と「FI」の列からなる値をリスト形式に変換\n",
        "x = result['FI'].tolist()\n",
        "y = result['出願人/権利者'].tolist()\n",
        "# 「Counts」列からなる値を元に、散布図のすべての点の大きさを示すリストを作成\n",
        "sizes = [size * 20 for size in result['Counts'].tolist()]\n",
        "# 「Counts」列からなる値を元に、散布図のすべての点のカウント数を示すリストを作成\n",
        "nums = [num for num in result['Counts'].tolist()]\n",
        "# 「出願人/権利者」列からなる値を元に、カテゴリーのリストを作成\n",
        "categories = list(set(y))\n",
        "# 色マップを作成\n",
        "colors = cm.rainbow(np.linspace(0, 1, len(categories)))\n",
        "colors = {categories[i]: colors[i] for i in range(len(categories))}\n",
        "colors = [colors[item] for item in y]\n",
        "# 散布図を作成\n",
        "fig, ax = plt.subplots(figsize=(15.0, 6.0))\n",
        "ax.scatter(x, y, s=sizes, c=colors)\n",
        "# 散布図にカウント数を表示\n",
        "for i, txt in enumerate(nums):\n",
        "    ax.annotate(txt, (x[i], y[i]), textcoords=\"offset points\", xytext=(1,1), ha='left', va='bottom')\n",
        "# X軸項目を60°傾ける\n",
        "plt.xticks(rotation=90)\n",
        "# 図を表示\n",
        "plt.savefig(\"Cross.png\",dpi=150)   # プロットしたグラフをファイル.pngに保存する\n",
        "plt.show()"
      ],
      "metadata": {
        "colab": {
          "base_uri": "https://localhost:8080/",
          "height": 526
        },
        "id": "67HFTHZmi0Dt",
        "outputId": "d5748a47-f429-42da-c0a9-7a2359aec0e3"
      },
      "execution_count": null,
      "outputs": [
        {
          "output_type": "display_data",
          "data": {
            "text/plain": [
              "<Figure size 1500x600 with 1 Axes>"
            ],
            "image/png": "[encoded data removed]"
          },
          "metadata": {}
        }
      ]
    }
  ]
}