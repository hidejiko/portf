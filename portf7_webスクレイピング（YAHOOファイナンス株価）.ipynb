{
  "nbformat": 4,
  "nbformat_minor": 0,
  "metadata": {
    "colab": {
      "provenance": []
    },
    "kernelspec": {
      "name": "python3",
      "display_name": "Python 3"
    },
    "language_info": {
      "name": "python"
    }
  },
  "cells": [
    {
      "cell_type": "markdown",
      "source": [
        "YAHOO!ファイナンスのサイトから株価のリアルタイム情報をスクレイピングする\n",
        "\n",
        "取りたい銘柄のコードを「getdata.csv」で用意してファイルに置く（毎回消える）"
      ],
      "metadata": {
        "id": "_jhI3L5cv26i"
      }
    },
    {
      "cell_type": "code",
      "metadata": {
        "id": "vRhLAva8-QVk",
        "colab": {
          "base_uri": "https://localhost:8080/"
        },
        "outputId": "ca7ed27f-a14c-43ae-b72d-59846288441c"
      },
      "source": [
        "#csvの読み込み処理\n",
        "import csv\n",
        "\n",
        "#配列宣言\n",
        "getdata_list = []\n",
        "\n",
        "#csvファイルを指定\n",
        "filename = 'getdata.csv'\n",
        "\n",
        "#csvファイルを読み込み\n",
        "with open(filename) as f:\n",
        "  reader = csv.reader(f)\n",
        "  #csvファイルのデータをループ\n",
        "  for row in reader:\n",
        "    #A列を配列へ格納\n",
        "    getdata_list.append(str(row[0]).replace(\"\\ufeff\",\"\"))\n",
        "print(getdata_list)"
      ],
      "execution_count": null,
      "outputs": [
        {
          "output_type": "stream",
          "name": "stdout",
          "text": [
            "['7203.T', '7267.T', '7201.T', '7261.T']\n"
          ]
        }
      ]
    },
    {
      "cell_type": "code",
      "source": [
        "#配列を1個ずつ繰り返す\n",
        "#各種宣言\n",
        "import urllib.parse\n",
        "import requests\n",
        "from bs4 import BeautifulSoup\n",
        "import pandas as pd"
      ],
      "metadata": {
        "id": "rwdSOm5Jvfja"
      },
      "execution_count": null,
      "outputs": []
    },
    {
      "cell_type": "code",
      "source": [
        "#データ格納用の配列を用意\n",
        "company_name_list = []\n",
        "kabuka_list = []\n",
        "kabuka_zenzitsu_list = []\n",
        "kabuka_zo_list = []\n",
        "takane_list = []\n",
        "yasune_list = []\n",
        "dekidaka_list = []"
      ],
      "metadata": {
        "id": "HtL2ZQCVvkDx"
      },
      "execution_count": null,
      "outputs": []
    },
    {
      "cell_type": "code",
      "metadata": {
        "colab": {
          "base_uri": "https://localhost:8080/"
        },
        "id": "OtR1PVUsAmJF",
        "outputId": "36dd6bbd-03d4-49c3-8979-65c3721dc4ab"
      },
      "source": [
        "for g_list in getdata_list:\n",
        "  #URLの結合を行う（各処理に対して、ページを行き来きする必要があるため）\n",
        "  load_url = urllib.parse.urljoin(\"https://finance.yahoo.co.jp/quote/\",g_list)\n",
        "  print(load_url)\n",
        "\n",
        "  #下記よりスクレイピングを行う\n",
        "  html = requests.get(load_url)\n",
        "  soup = BeautifulSoup(html.content, \"html.parser\")\n",
        "  #確認のための表示\n",
        "  #print(soup)\n",
        "\n",
        "  #初期化\n",
        "  ck_page = ''\n",
        "  #会社名の取得\n",
        "  for element in soup.find_all(class_=\"_6uDhA-ZV\"):\n",
        "    ck_page = element.text\n",
        "    if ck_page != '':\n",
        "      company_name_list.append(ck_page)\n",
        "      print(company_name_list)\n",
        "\n",
        "  #カウント用の変数を用意\n",
        "  count = 0\n",
        "  #株価関連データの取得\n",
        "  for element in soup.find_all(class_=\"_3rXWJKZF\"):\n",
        "    #　　関係のあるデータだけを絞るためカウント用の変数を作成し、使用する\n",
        "    if count == 0:\n",
        "      kakaku = element.text\n",
        "      if kakaku != '':\n",
        "        kabuka_list.append(kakaku)\n",
        "      print(kabuka_list)\n",
        "    #前日比のデータは２番目\n",
        "    elif count == 1:\n",
        "      kabuka_zenzitsu_list.append(element.text)\n",
        "      print(kabuka_zenzitsu_list)\n",
        "    #前日終値のデータは4番目\n",
        "    elif count == 3:\n",
        "      kabuka_zo_list.append(element.text)\n",
        "      print(kabuka_zo_list)\n",
        "    #高値のデータは6番目\n",
        "    elif count == 5:\n",
        "      takane_list.append(element.text)\n",
        "      print(takane_list)\n",
        "    #安値のデータは7番目\n",
        "    elif count == 6:\n",
        "      yasune_list.append(element.text)\n",
        "      print(yasune_list)\n",
        "    #出来高のデータは８番目\n",
        "    elif count == 7:\n",
        "      dekidaka_list.append(element.text)\n",
        "      print(dekidaka_list)\n",
        "    count += 1\n",
        "  #何もない場合はから文字列\n",
        "  if ck_page == '':\n",
        "    #会社名のみ該当列があるか否かを表記\n",
        "    company_name_list.append('該当コードなし')\n",
        "    kabuka_list.append('')\n",
        "    kabuka_zenzitsu_list.append('')\n",
        "    kabuka_zo_list.append('')\n",
        "    takane_list.append('')\n",
        "    yasune_list.append('')\n",
        "    dekidaka_list.append('')\n",
        "\n",
        "#データフレームに格納\n",
        "col_main = [\"東証４桁コード\",\"会社名\",\"株価\",\"前日比\",\"前日終値\",\"高値\",\"安値\",\"出来高\"]\n",
        "df_list = [[getdata_list[i],company_name_list[i],kabuka_list[i],kabuka_zenzitsu_list[i],kabuka_zo_list[i],takane_list[i],\n",
        "            yasune_list[i], dekidaka_list[i],]\n",
        "            for i in range(len(getdata_list))]\n",
        "df = pd.DataFrame(data=df_list,columns=col_main)"
      ],
      "execution_count": null,
      "outputs": [
        {
          "output_type": "stream",
          "name": "stdout",
          "text": [
            "https://finance.yahoo.co.jp/quote/7203.T\n",
            "['トヨタ自動車(株)']\n",
            "['1,796']\n",
            "['-3']\n",
            "['1,799']\n",
            "['1,819.5']\n",
            "['1,793.5']\n",
            "['11,345,600']\n",
            "https://finance.yahoo.co.jp/quote/7267.T\n",
            "['トヨタ自動車(株)', 'ホンダ']\n",
            "['1,796', '3,055']\n",
            "['-3', '+13']\n",
            "['1,799', '3,042']\n",
            "['1,819.5', '3,103']\n",
            "['1,793.5', '3,046']\n",
            "['11,345,600', '2,217,400']\n",
            "https://finance.yahoo.co.jp/quote/7201.T\n",
            "['トヨタ自動車(株)', 'ホンダ', '日産自動車(株)']\n",
            "['1,796', '3,055', '414.6']\n",
            "['-3', '+13', '+2.2']\n",
            "['1,799', '3,042', '412.4']\n",
            "['1,819.5', '3,103', '418.3']\n",
            "['1,793.5', '3,046', '413.3']\n",
            "['11,345,600', '2,217,400', '6,423,300']\n",
            "https://finance.yahoo.co.jp/quote/7261.T\n",
            "['トヨタ自動車(株)', 'ホンダ', '日産自動車(株)', 'マツダ(株)']\n",
            "['1,796', '3,055', '414.6', '970']\n",
            "['-3', '+13', '+2.2', '-5']\n",
            "['1,799', '3,042', '412.4', '975']\n",
            "['1,819.5', '3,103', '418.3', '986']\n",
            "['1,793.5', '3,046', '413.3', '968']\n",
            "['11,345,600', '2,217,400', '6,423,300', '1,769,000']\n"
          ]
        }
      ]
    },
    {
      "cell_type": "code",
      "source": [
        "#EXCELとしてアウトプット\n",
        "df.to_excel(\"result.xlsx\")"
      ],
      "metadata": {
        "id": "Cm3TEXREvsvK"
      },
      "execution_count": null,
      "outputs": []
    }
  ]
}